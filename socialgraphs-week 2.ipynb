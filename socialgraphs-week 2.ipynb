{
 "cells": [
  {
   "cell_type": "markdown",
   "id": "0e13078f",
   "metadata": {},
   "source": [
    "# Part 1\n",
    "## Section 2.5 states that real networks are sparse. Can you think of a real network where each node has many connections? Is that network still sparse? If yes, can you explain why?\n",
    "\n",
    "In the last century, each Chinese family has a bunch of children connected to each other and made a relatively big family network. After performed years of the one-child policy, each family normally raises one or two kids, so this kind of social network is getting sparse now."
   ]
  },
  {
   "cell_type": "markdown",
   "id": "20199467",
   "metadata": {},
   "source": [
    "# Part 2\n",
    "## 2.1 Which of the icons in Image 2.19 can be drawn without raising yourpencil from the paper, and without drawing any line more than once? Why?\n",
    "Image b cannot be draw in one line. It has more than two nodes with 3 links."
   ]
  },
  {
   "cell_type": "markdown",
   "id": "c66ca684",
   "metadata": {},
   "source": [
    "## 2.3 Graph Representation \n",
    "* Undirected graph of 6 nodes and 7 links.\n",
    "* Directed graph of 6 nodes and 8 directed links.\n",
    "* The corresponding adjacency matrices.\n",
    "* The corresponding link lists."
   ]
  },
  {
   "cell_type": "code",
   "execution_count": 13,
   "id": "42edeb9a",
   "metadata": {},
   "outputs": [
    {
     "data": {
      "image/png": "[encoded data removed]",
      "text/plain": [
       "<Figure size 432x288 with 1 Axes>"
      ]
     },
     "metadata": {},
     "output_type": "display_data"
    }
   ],
   "source": [
    "import networkx as nx\n",
    "import matplotlib.pyplot as plt\n",
    "import numpy as np\n",
    " \n",
    "G = nx.Graph()\n",
    "Matrix = np.array(\n",
    "    [\n",
    "        [0, 1, 1, 1, 0, 1],  # 1\n",
    "        [0, 0, 1, 1, 0, 0],  # 2\n",
    "        [1, 1, 0, 0, 0, 1],  # 3\n",
    "        [1, 1, 0, 0, 0, 0],  # 4\n",
    "        [0, 0, 0, 0, 0, 0],  # 5\n",
    "        [1, 0, 1, 0, 0, 0]   # 6\n",
    "    ]\n",
    ")\n",
    "G.add_nodes_from([1,2,3,4,5,6])\n",
    "for i in range(len(Matrix)):\n",
    "    for j in range(len(Matrix)):\n",
    "        if Matrix[i][j]:\n",
    "            G.add_edge(i+1, j+1)\n",
    " \n",
    "nx.draw(G,with_labels=True)\n",
    "plt.title('Undirected graph of 6 nodes and 7 links.')\n",
    "plt.axis('on')\n",
    "plt.xticks([])\n",
    "plt.yticks([])\n",
    "plt.show()"
   ]
  },
  {
   "cell_type": "code",
   "execution_count": 12,
   "id": "32403496",
   "metadata": {},
   "outputs": [
    {
     "data": {
      "image/png": "[encoded data removed]",
      "text/plain": [
       "<Figure size 432x288 with 1 Axes>"
      ]
     },
     "metadata": {},
     "output_type": "display_data"
    }
   ],
   "source": [
    "DG=nx.DiGraph()\n",
    "DG.add_nodes_from([1,2,3,4,5,6])\n",
    "DMatrix = np.array(\n",
    "    [\n",
    "        [0, 1, 0, 0, 0, 0],  # 1\n",
    "        [0, 0, 1, 1, 0, 0],  # 2\n",
    "        [1, 1, 0, 0, 0, 0],  # 3\n",
    "        [1, 0, 0, 0, 0, 0],  # 4\n",
    "        [0, 0, 0, 0, 0, 0],  # 5\n",
    "        [1, 0, 1, 0, 0, 0]   # 6\n",
    "    ]\n",
    ")\n",
    "\n",
    "for i in range(len(DMatrix)):\n",
    "    for j in range(len(DMatrix)):\n",
    "        if DMatrix[i][j]:\n",
    "            DG.add_edge(i+1, j+1)\n",
    " \n",
    "nx.draw(DG,with_labels=True)\n",
    "plt.title('Directed graph of 6 nodes and 8 directed links.')\n",
    "plt.axis('on')\n",
    "plt.xticks([])\n",
    "plt.yticks([])\n",
    "plt.show()"
   ]
  },
  {
   "cell_type": "code",
   "execution_count": null,
   "id": "32f244a8",
   "metadata": {},
   "outputs": [],
   "source": [
    "nodes1=[int(i) for i in G.nodes]\n",
    "nodes=[list2[i] for i in nodes1]\n",
    "\n",
    "V_E=[list(item) for item in V_E]#V_E中元组转换成列表\n",
    "relation_list=[]\n",
    "for item in V_E:\n",
    "    item1=[list2[i] for i in item[0:2]]\n",
    "    item=[str(i) for i in item]\n",
    "    item1.append(item[2])\n",
    "    relation_list.append(item1)    \n",
    "print(relation_list)\n",
    "nodes_dict={\n",
    "nodes[i]:(list2.index(nodes[i])) for i in range(len(nodes))}\n",
    "print(nodes_dict)\n",
    "#邻接矩阵\n",
    "relation_matrix = [[0 for i in range(len(nodes))] for i in range(len(nodes))]\n",
    "for [x,y,e] in relation_list:\n",
    "    x_index=nodes1.index(nodes_dict[x])        \n",
    "    y_index=nodes1.index(nodes_dict[y])\n",
    "    relation_matrix[x_index][y_index]=e\n",
    "print('\\n',relation_matrix)#生成邻接矩阵"
   ]
  },
  {
   "cell_type": "code",
   "execution_count": 16,
   "id": "cc86b16c",
   "metadata": {},
   "outputs": [
    {
     "data": {
      "text/plain": [
       "[(1, 2), (1, 3), (1, 4), (1, 6), (2, 3), (2, 4), (3, 6)]"
      ]
     },
     "execution_count": 16,
     "metadata": {},
     "output_type": "execute_result"
    }
   ],
   "source": [
    "list(G.edges)"
   ]
  },
  {
   "cell_type": "code",
   "execution_count": 17,
   "id": "5b73a3c5",
   "metadata": {},
   "outputs": [
    {
     "data": {
      "text/plain": [
       "[(1, 2), (2, 3), (2, 4), (3, 1), (3, 2), (4, 1), (6, 1), (6, 3)]"
      ]
     },
     "execution_count": 17,
     "metadata": {},
     "output_type": "execute_result"
    }
   ],
   "source": [
    "list(DG.edges)"
   ]
  },
  {
   "cell_type": "markdown",
   "id": "20ab7d3f",
   "metadata": {},
   "source": [
    "**note:**\n",
    "\n",
    "**Ci measures the network’s local link density: The more densely interconnected the neighborhood of node i, the higher is its local clustering coefficient.**\n",
    "\n",
    "$$C{_i}=\\frac{2L{_i}}{k{_i}(k{_i}-1)}$$\n",
    "\n",
    "\n",
    "**〈C〉 is the probability that two neighbors of a randomly selected node link to each other.**\n",
    "\n",
    "$$〈C〉=\\frac{1}{N}\\sum_{i=1}^N C{_i}$$"
   ]
  },
  {
   "cell_type": "markdown",
   "id": "6991b1db",
   "metadata": {},
   "source": [
    "* Determine the average clustering coefficient of the network shown in Image 2.20a\n"
   ]
  },
  {
   "cell_type": "code",
   "execution_count": 18,
   "id": "672d9c26",
   "metadata": {},
   "outputs": [
    {
     "data": {
      "text/plain": [
       "{1: 0.5, 2: 0.6666666666666666, 3: 0.6666666666666666, 4: 1.0, 5: 0, 6: 1.0}"
      ]
     },
     "execution_count": 18,
     "metadata": {},
     "output_type": "execute_result"
    }
   ],
   "source": [
    "nx.clustering(G)"
   ]
  },
  {
   "cell_type": "code",
   "execution_count": 41,
   "id": "af27d296",
   "metadata": {},
   "outputs": [],
   "source": [
    "average_c_G= len(nx.clustering(G))/sum(nx.clustering(G).values())"
   ]
  },
  {
   "cell_type": "code",
   "execution_count": 42,
   "id": "e6cf5f8e",
   "metadata": {},
   "outputs": [
    {
     "data": {
      "text/plain": [
       "1.565217391304348"
      ]
     },
     "execution_count": 42,
     "metadata": {},
     "output_type": "execute_result"
    }
   ],
   "source": [
    "average_c_G"
   ]
  },
  {
   "cell_type": "markdown",
   "id": "3e17c10e",
   "metadata": {},
   "source": [
    "* If you switch the labels of nodes 5 and 6 in Image 2.20a, how does that move change the adjacency matrix? And the link list?\n",
    "\n",
    "*It changes both the 5th, 6th col and  5th, 6th row of the adjacency matrix. In the list of links, all nodes 5 change to nodes 6, vice versa.*"
   ]
  },
  {
   "cell_type": "code",
   "execution_count": 48,
   "id": "5f4ed31b",
   "metadata": {},
   "outputs": [
    {
     "data": {
      "image/png": "[encoded data removed]",
      "text/plain": [
       "<Figure size 432x288 with 1 Axes>"
      ]
     },
     "metadata": {},
     "output_type": "display_data"
    }
   ],
   "source": [
    "G1 = nx.Graph()\n",
    "Matrix1 = np.array(\n",
    "    [\n",
    "        [0, 1, 1, 1, 1, 0],  # 1\n",
    "        [0, 0, 1, 1, 0, 0],  # 2\n",
    "        [1, 1, 0, 0, 1, 0],  # 3\n",
    "        [1, 1, 0, 0, 0, 0],  # 4\n",
    "#         [0, 0, 0, 0, 0, 0],  # 5\n",
    "#         [1, 0, 1, 0, 0, 0]   # 6\n",
    "        [1, 0, 1, 0, 0, 0],   # 5\n",
    "        [0, 0, 0, 0, 0, 0]    # 6\n",
    "    ]\n",
    ")\n",
    "G1.add_nodes_from([1,2,3,4,5,6])\n",
    "for i in range(len(Matrix1)):\n",
    "    for j in range(len(Matrix1)):\n",
    "        if Matrix1[i][j]:\n",
    "            G1.add_edge(i+1, j+1)\n",
    " \n",
    "nx.draw(G1,with_labels=True)\n",
    "\n",
    "plt.axis('on')\n",
    "plt.xticks([])\n",
    "plt.yticks([])\n",
    "plt.show()"
   ]
  },
  {
   "cell_type": "code",
   "execution_count": 49,
   "id": "7681a8bb",
   "metadata": {},
   "outputs": [
    {
     "data": {
      "text/plain": [
       "[(1, 2), (1, 3), (1, 4), (1, 5), (2, 3), (2, 4), (3, 5)]"
      ]
     },
     "execution_count": 49,
     "metadata": {},
     "output_type": "execute_result"
    }
   ],
   "source": [
    "list(G1.edges)"
   ]
  },
  {
   "cell_type": "markdown",
   "id": "383142ac",
   "metadata": {},
   "source": [
    "* What kind of information can you not infer from the link list representation of the network that you can infer from the adjacency matrix?\n",
    "\n",
    "    *The number of nodes can't be directly obeserved in the link list.*\n",
    "    \n",
    "    \n",
    "\n",
    "* In the (a) network, how many paths (with possible repetition of nodes and links) of length 3 exist starting from node 1 and ending at node 3? And in (b)?\n",
    "\n",
    "    （a）network has 3 paths:1-4-2-3、1-3-2-3、1-3-6-3.\n",
    "\n",
    "    （b）network has none path of length 3.\n"
   ]
  },
  {
   "cell_type": "markdown",
   "id": "27506fb9",
   "metadata": {},
   "source": [
    "* With the help of a computer, count the number of cycles of length 4 in both networks."
   ]
  },
  {
   "cell_type": "code",
   "execution_count": 66,
   "id": "35786f64",
   "metadata": {},
   "outputs": [
    {
     "name": "stdout",
     "output_type": "stream",
     "text": [
      "[0, 2, 1, 3, 0]\n",
      "[0, 3, 1, 2, 0]\n"
     ]
    },
    {
     "data": {
      "text/plain": [
       "1"
      ]
     },
     "execution_count": 66,
     "metadata": {},
     "output_type": "execute_result"
    }
   ],
   "source": [
    "# Number of vertices\n",
    "V = 6\n",
    "\n",
    "\n",
    "def DFS(graph, marked, n, vert, start, count, path):\n",
    "    # mark the vertex vert as visited\n",
    "    marked[vert] = True\n",
    "\n",
    "    # if the path of length (n-1) is found\n",
    "    if n == 0:\n",
    "\n",
    "        # mark vert as un-visited to make\n",
    "        # it usable again.\n",
    "        marked[vert] = False\n",
    "\n",
    "        # Check if vertex vert can end with\n",
    "        # vertex start\n",
    "        if graph[vert][start] == 1:\n",
    "            count = count + 1\n",
    "            path.append(start)\n",
    "            print(path)\n",
    "            path.pop()\n",
    "\n",
    "            return count\n",
    "        else:\n",
    "            return count\n",
    "\n",
    "    # For searching every possible path of\n",
    "    # length (n-1)\n",
    "    for i in range(V):\n",
    "        if marked[i] == False and graph[vert][i] == 1:\n",
    "            # DFS for searching path by decreasing\n",
    "            # length by 1\n",
    "            path.append(i)\n",
    "            count = DFS(graph, marked, n - 1, i, start, count, path)\n",
    "            for node in path:\n",
    "                if not marked[node] == True:\n",
    "                    path.remove(node)\n",
    "\n",
    "    # marking vert as unvisited to make it\n",
    "    # usable again.\n",
    "    marked[vert] = False\n",
    "    return count\n",
    "\n",
    "\n",
    "# Counts cycles of length\n",
    "# N in an undirected\n",
    "# and connected graph.\n",
    "def countCycles(graph, n):\n",
    "    # all vertex are marked un-visited intially.\n",
    "    marked = [False] * V\n",
    "\n",
    "    # Searching for cycle by using v-n+1 vertices\n",
    "    count = 0\n",
    "    for i in range(V - (n - 1)):\n",
    "        path = []\n",
    "        path.append(i)\n",
    "        count = DFS(graph, marked, n - 1, i, i, count, path)\n",
    "\n",
    "        # ith vertex is marked as visited and\n",
    "        # will not be visited again.\n",
    "        marked[i] = True\n",
    "\n",
    "    return int(count / 2)\n",
    "\n",
    "\n",
    "n = 4\n",
    "# print(\"Total cycles of length \", n, \" are \", countCycles(G, n))\n",
    "\n",
    "# this code is contributed by Shivani Ghughtyal\n",
    "\n",
    "countCycles(Matrix, n)"
   ]
  },
  {
   "cell_type": "markdown",
   "id": "48b99a0d",
   "metadata": {},
   "source": [
    "## 2.5 Bipartite Networks\n",
    "Consider the bipartite network of Image 2.21\n",
    "\n",
    "* Construct its adjacency matrix. Why is it a anti-diagonal matrix?\n",
    "\n",
    "*Its adjacency matrix can be rearranged into a block diagonal form, all nonzero elements in the matrix are contained in square blocks along the matrix’ diagonal and all other elements are zero.*\n",
    "\n",
    "\n",
    "* Construct the adjacency matrix of its two projections, on the purple and on the green nodes, respectively.\n"
   ]
  },
  {
   "cell_type": "code",
   "execution_count": 116,
   "id": "96e89c8e",
   "metadata": {},
   "outputs": [
    {
     "data": {
      "image/png": "[encoded data removed]",
      "text/plain": [
       "<Figure size 432x288 with 3 Axes>"
      ]
     },
     "metadata": {},
     "output_type": "display_data"
    }
   ],
   "source": [
    "BG=nx.Graph()\n",
    "PG1=nx.Graph()\n",
    "PG2=nx.Graph()\n",
    "\n",
    "BMatrix=np.array([\n",
    "    [0,0,0,0,0,0,1,0,0,0,0],\n",
    "    [0,0,0,0,0,0,0,0,1,0,0],\n",
    "    [0,0,0,0,0,0,1,1,1,0,0],\n",
    "    [0,0,0,0,0,0,0,0,1,1,0],\n",
    "    [0,0,0,0,0,0,0,0,1,0,1],\n",
    "    [0,0,0,0,0,0,0,0,0,0,1],\n",
    "    [1,0,1,0,0,0,0,0,0,0,0],\n",
    "    [0,0,1,0,0,0,0,0,0,0,0],\n",
    "    [0,1,1,1,1,0,0,0,0,0,0],\n",
    "    [0,0,0,1,0,0,0,0,0,0,0],\n",
    "    [0,0,0,0,1,1,0,0,0,0,0]\n",
    "])\n",
    "\n",
    "BG.add_nodes_from([1,2,3,4,5,6,7,8,9,10,11])\n",
    "PG1.add_nodes_from([1,2,3,4,5,6])\n",
    "PG2.add_nodes_from([7,8,9,10,11])\n",
    "\n",
    "for i in range(len(BMatrix)):\n",
    "    for j in range(len(BMatrix)):\n",
    "        if BMatrix[i][j]:\n",
    "            BG.add_edge(i+1, j+1)\n",
    "# nx.draw(BG,with_labels=True)\n",
    "\n",
    "first_partition_nodes={1,2,3,4,5,6}\n",
    "\n",
    "color_map = []\n",
    "for node in BG:\n",
    "    if node < 7:\n",
    "        color_map.append('purple')\n",
    "    else: \n",
    "        color_map.append('green') \n",
    "        \n",
    "plt.subplot(1,3,2)\n",
    "nx.draw(\n",
    "    BG,\n",
    "    with_labels=True,\n",
    "    node_color=color_map,\n",
    "    font_weight='bold',\n",
    "    pos = nx.drawing.layout.bipartite_layout(BG, first_partition_nodes)) # Or whatever other display options you like\n",
    "\n",
    "for i in range(6):\n",
    "    for j in range(6,11):\n",
    "        if BMatrix[i][j]:\n",
    "            for k in range(i+1,6):\n",
    "                if BMatrix[k][j]:\n",
    "                    PG1.add_edge(i+1, k+1)\n",
    "plt.subplot(1,3,1)\n",
    "nx.draw(PG1,with_labels=True,node_color='purple')\n",
    "\n",
    "for i in range(6,11):\n",
    "    for j in range(6):\n",
    "        if BMatrix[i][j]:\n",
    "            for k in range(i+1,11):\n",
    "                if BMatrix[k][j]:\n",
    "                    PG2.add_edge(i+1, k+1)\n",
    "plt.subplot(1,3,3)\n",
    "nx.draw(PG2,with_labels=True,node_color='green')\n",
    "\n",
    "plt.title('the bipartite network of Image 2.21')\n",
    "plt.show()"
   ]
  },
  {
   "cell_type": "markdown",
   "id": "bf6a3ade",
   "metadata": {},
   "source": [
    "* Calculate the average degree of the purple nodes and the average degree of the green nodes in the bipartite network.\n"
   ]
  },
  {
   "cell_type": "code",
   "execution_count": 130,
   "id": "7444270f",
   "metadata": {},
   "outputs": [
    {
     "data": {
      "text/plain": [
       "DegreeView({1: 1, 2: 1, 3: 3, 4: 2, 5: 2, 6: 1, 7: 2, 8: 1, 9: 4, 10: 1, 11: 2})"
      ]
     },
     "execution_count": 130,
     "metadata": {},
     "output_type": "execute_result"
    }
   ],
   "source": [
    "BG.degree()"
   ]
  },
  {
   "cell_type": "code",
   "execution_count": 131,
   "id": "6cefd6d7",
   "metadata": {},
   "outputs": [],
   "source": [
    "dv1=BG.degree([1,2,3,4,5,6])"
   ]
  },
  {
   "cell_type": "code",
   "execution_count": 132,
   "id": "1c5ad2d3",
   "metadata": {},
   "outputs": [],
   "source": [
    "average_degree_purplenodes=sum(dict(dv1).values())/len(dv1)"
   ]
  },
  {
   "cell_type": "code",
   "execution_count": 133,
   "id": "ae691180",
   "metadata": {},
   "outputs": [
    {
     "data": {
      "text/plain": [
       "1.6666666666666667"
      ]
     },
     "execution_count": 133,
     "metadata": {},
     "output_type": "execute_result"
    }
   ],
   "source": [
    "average_degree_purplenodes"
   ]
  },
  {
   "cell_type": "code",
   "execution_count": 134,
   "id": "4aac49de",
   "metadata": {},
   "outputs": [],
   "source": [
    "dv2=BG.degree([7,8,9,10,11])"
   ]
  },
  {
   "cell_type": "code",
   "execution_count": 135,
   "id": "501d2908",
   "metadata": {},
   "outputs": [],
   "source": [
    "average_degree_greennodes=sum(dict(dv2).values())/len(dv2)"
   ]
  },
  {
   "cell_type": "code",
   "execution_count": 136,
   "id": "14e5d9e2",
   "metadata": {},
   "outputs": [
    {
     "data": {
      "text/plain": [
       "2.0"
      ]
     },
     "execution_count": 136,
     "metadata": {},
     "output_type": "execute_result"
    }
   ],
   "source": [
    "average_degree_greennodes"
   ]
  },
  {
   "cell_type": "markdown",
   "id": "22a9b947",
   "metadata": {},
   "source": [
    "* Calculate the average degree in each of the two network projections. Is it surprising that the values are different from those obtained in point (c)?\n",
    "\n",
    "    *The links in projections added up is more than before, so the average degree increased.*"
   ]
  },
  {
   "cell_type": "code",
   "execution_count": 137,
   "id": "b3947460",
   "metadata": {},
   "outputs": [],
   "source": [
    "pv1=PG1.degree()"
   ]
  },
  {
   "cell_type": "code",
   "execution_count": 138,
   "id": "efad9bf3",
   "metadata": {},
   "outputs": [
    {
     "data": {
      "text/plain": [
       "DegreeView({1: 1, 2: 3, 3: 4, 4: 3, 5: 4, 6: 1})"
      ]
     },
     "execution_count": 138,
     "metadata": {},
     "output_type": "execute_result"
    }
   ],
   "source": [
    "pv1"
   ]
  },
  {
   "cell_type": "code",
   "execution_count": 139,
   "id": "a5051e5e",
   "metadata": {},
   "outputs": [],
   "source": [
    "pv2=PG2.degree()"
   ]
  },
  {
   "cell_type": "code",
   "execution_count": 140,
   "id": "e4ce31ba",
   "metadata": {},
   "outputs": [
    {
     "data": {
      "text/plain": [
       "DegreeView({7: 2, 8: 2, 9: 4, 10: 1, 11: 1})"
      ]
     },
     "execution_count": 140,
     "metadata": {},
     "output_type": "execute_result"
    }
   ],
   "source": [
    "pv2"
   ]
  },
  {
   "cell_type": "code",
   "execution_count": 141,
   "id": "63d2df51",
   "metadata": {},
   "outputs": [
    {
     "data": {
      "text/plain": [
       "DegreeView({1: 1, 2: 1, 3: 3, 4: 2, 5: 2, 6: 1, 7: 2, 8: 1, 9: 4, 10: 1, 11: 2})"
      ]
     },
     "execution_count": 141,
     "metadata": {},
     "output_type": "execute_result"
    }
   ],
   "source": [
    "BG.degree()"
   ]
  },
  {
   "cell_type": "code",
   "execution_count": 142,
   "id": "8acf9b8b",
   "metadata": {},
   "outputs": [],
   "source": [
    "average_degree_p1=sum(dict(pv1).values())/len(pv1)"
   ]
  },
  {
   "cell_type": "code",
   "execution_count": 143,
   "id": "7d2fbb15",
   "metadata": {},
   "outputs": [],
   "source": [
    "average_degree_p2=sum(dict(pv2).values())/len(pv2)"
   ]
  },
  {
   "cell_type": "code",
   "execution_count": 144,
   "id": "d0d5043e",
   "metadata": {},
   "outputs": [
    {
     "data": {
      "text/plain": [
       "2.6666666666666665"
      ]
     },
     "execution_count": 144,
     "metadata": {},
     "output_type": "execute_result"
    }
   ],
   "source": [
    "average_degree_p1"
   ]
  },
  {
   "cell_type": "code",
   "execution_count": 145,
   "id": "53ca1341",
   "metadata": {},
   "outputs": [
    {
     "data": {
      "text/plain": [
       "2.0"
      ]
     },
     "execution_count": 145,
     "metadata": {},
     "output_type": "execute_result"
    }
   ],
   "source": [
    "average_degree_p2"
   ]
  },
  {
   "cell_type": "markdown",
   "id": "429499f2",
   "metadata": {},
   "source": [
    "# Part 3 Plotting degree distributions"
   ]
  },
  {
   "cell_type": "markdown",
   "id": "f28d23d4",
   "metadata": {},
   "source": [
    "## 1.Binning real numbers"
   ]
  },
  {
   "cell_type": "code",
   "execution_count": 86,
   "id": "9555f371",
   "metadata": {},
   "outputs": [],
   "source": [
    "import networkx as nx\n",
    "import matplotlib.pyplot as plt\n",
    "import numpy as np\n",
    "from numpy import random\n",
    "\n",
    "mu, sigma = 2, 0.125\n",
    "data = np.random.normal(mu, sigma, 5000)"
   ]
  },
  {
   "cell_type": "code",
   "execution_count": 87,
   "id": "68ac24f6",
   "metadata": {},
   "outputs": [
    {
     "data": {
      "text/plain": [
       "array([2.03289913, 2.12787176, 1.89757524, ..., 1.87151307, 2.03988898,\n",
       "       2.3207669 ])"
      ]
     },
     "execution_count": 87,
     "metadata": {},
     "output_type": "execute_result"
    }
   ],
   "source": [
    "data"
   ]
  },
  {
   "cell_type": "markdown",
   "id": "20b02d37",
   "metadata": {},
   "source": [
    "**To avoid the problem that counts- and bin-arrays have different lengths. Simply plotting the data by using matplotlib.pyplot.hist. The second parameter is bins, required interger or sequence. If bins is an integer, it defines the number of equal-width bins in the range.If bins is a sequence, it defines the bin edges, including the left edge of the first bin and the right edge of the last bin.**"
   ]
  },
  {
   "cell_type": "markdown",
   "id": "79ff0173",
   "metadata": {},
   "source": [
    "## 2.Binning integers"
   ]
  },
  {
   "cell_type": "code",
   "execution_count": 126,
   "id": "c93e53a6",
   "metadata": {},
   "outputs": [
    {
     "data": {
      "image/png": "[encoded data removed]",
      "text/plain": [
       "<Figure size 432x288 with 1 Axes>"
      ]
     },
     "metadata": {
      "needs_background": "light"
     },
     "output_type": "display_data"
    }
   ],
   "source": [
    "counts,bins=np.histogram(data,10) #return two arrays\n",
    "plt.hist(data, 10)\n",
    "plt.title(\"Normal distribution\")\n",
    "plt.show()"
   ]
  },
  {
   "cell_type": "code",
   "execution_count": 97,
   "id": "60ca7f8b",
   "metadata": {},
   "outputs": [
    {
     "data": {
      "text/plain": [
       "array([  34,  145,  618, 1246, 1441, 1034,  376,   91,   14,    1])"
      ]
     },
     "execution_count": 97,
     "metadata": {},
     "output_type": "execute_result"
    }
   ],
   "source": [
    "counts"
   ]
  },
  {
   "cell_type": "code",
   "execution_count": 98,
   "id": "f64e9218",
   "metadata": {},
   "outputs": [
    {
     "data": {
      "text/plain": [
       "array([1.58851985, 1.68498385, 1.78144785, 1.87791184, 1.97437584,\n",
       "       2.07083984, 2.16730384, 2.26376783, 2.36023183, 2.45669583,\n",
       "       2.55315983])"
      ]
     },
     "execution_count": 98,
     "metadata": {},
     "output_type": "execute_result"
    }
   ],
   "source": [
    "bins"
   ]
  },
  {
   "cell_type": "code",
   "execution_count": 114,
   "id": "54431143",
   "metadata": {},
   "outputs": [
    {
     "data": {
      "text/plain": [
       "(10, 11)"
      ]
     },
     "execution_count": 114,
     "metadata": {},
     "output_type": "execute_result"
    }
   ],
   "source": [
    "counts.size,bins.size"
   ]
  },
  {
   "cell_type": "code",
   "execution_count": 125,
   "id": "6e7df1f5",
   "metadata": {},
   "outputs": [],
   "source": [
    "# plt.hist(bins[:-1], bins, weights=counts)"
   ]
  },
  {
   "cell_type": "code",
   "execution_count": 193,
   "id": "740172aa",
   "metadata": {},
   "outputs": [],
   "source": [
    "pdata = np.random.poisson(10, 5000)"
   ]
  },
  {
   "cell_type": "code",
   "execution_count": 194,
   "id": "1976acc9",
   "metadata": {},
   "outputs": [
    {
     "data": {
      "text/plain": [
       "array([ 7,  9, 11, ..., 12,  7, 10])"
      ]
     },
     "execution_count": 194,
     "metadata": {},
     "output_type": "execute_result"
    }
   ],
   "source": [
    "pdata"
   ]
  },
  {
   "cell_type": "code",
   "execution_count": 195,
   "id": "153c7252",
   "metadata": {},
   "outputs": [],
   "source": [
    "first_edge,last_edge=pdata.min(),pdata.max()\n",
    "bin_edges=np.linspace(start=first_edge,stop=last_edge,num=11,endpoint=True)"
   ]
  },
  {
   "cell_type": "code",
   "execution_count": 196,
   "id": "4aeaaf4a",
   "metadata": {},
   "outputs": [
    {
     "data": {
      "text/plain": [
       "array([ 1. ,  3.1,  5.2,  7.3,  9.4, 11.5, 13.6, 15.7, 17.8, 19.9, 22. ])"
      ]
     },
     "execution_count": 196,
     "metadata": {},
     "output_type": "execute_result"
    }
   ],
   "source": [
    "bin_edges"
   ]
  },
  {
   "cell_type": "markdown",
   "id": "cb6574a9",
   "metadata": {},
   "source": [
    "**When separating the data into each bin, the first element of the first bin starts with the min from the Poisson, the last element of the last bin ends with the max from the Poisson.**"
   ]
  },
  {
   "cell_type": "code",
   "execution_count": 197,
   "id": "b36559b9",
   "metadata": {},
   "outputs": [
    {
     "data": {
      "text/plain": [
       "Text(0.5, 1.0, 'Poisson distribution')"
      ]
     },
     "execution_count": 197,
     "metadata": {},
     "output_type": "execute_result"
    },
    {
     "data": {
      "image/png": "[encoded data removed]",
      "text/plain": [
       "<Figure size 432x288 with 1 Axes>"
      ]
     },
     "metadata": {
      "needs_background": "light"
     },
     "output_type": "display_data"
    }
   ],
   "source": [
    "plt.hist(pdata,bins=bin_edges)\n",
    "plt.title(\"Poisson distribution\")"
   ]
  },
  {
   "cell_type": "code",
   "execution_count": 211,
   "id": "4d5b2242",
   "metadata": {},
   "outputs": [],
   "source": [
    "counts,bin_edges2=np.histogram(pdata,bins=bin_edges)"
   ]
  },
  {
   "cell_type": "code",
   "execution_count": 212,
   "id": "7af12e15",
   "metadata": {},
   "outputs": [
    {
     "data": {
      "text/plain": [
       "126.5"
      ]
     },
     "execution_count": 212,
     "metadata": {},
     "output_type": "execute_result"
    }
   ],
   "source": [
    "sum(bin_edges2)"
   ]
  },
  {
   "cell_type": "code",
   "execution_count": 213,
   "id": "a50446fe",
   "metadata": {},
   "outputs": [
    {
     "data": {
      "text/plain": [
       "array([  49,  259,  745, 1185, 1167,  892,  455,  189,   44,   15])"
      ]
     },
     "execution_count": 213,
     "metadata": {},
     "output_type": "execute_result"
    }
   ],
   "source": [
    "counts"
   ]
  },
  {
   "cell_type": "code",
   "execution_count": 214,
   "id": "65340e79",
   "metadata": {},
   "outputs": [
    {
     "data": {
      "text/plain": [
       "array([ 1. ,  3.1,  5.2,  7.3,  9.4, 11.5, 13.6, 15.7, 17.8, 19.9, 22. ])"
      ]
     },
     "execution_count": 214,
     "metadata": {},
     "output_type": "execute_result"
    }
   ],
   "source": [
    "bin_edges2"
   ]
  },
  {
   "cell_type": "code",
   "execution_count": 215,
   "id": "dcbbafa9",
   "metadata": {
    "scrolled": true
   },
   "outputs": [
    {
     "data": {
      "text/plain": [
       "<BarContainer object of 10 artists>"
      ]
     },
     "execution_count": 215,
     "metadata": {},
     "output_type": "execute_result"
    },
    {
     "data": {
      "image/png": "[encoded data removed]",
      "text/plain": [
       "<Figure size 432x288 with 1 Axes>"
      ]
     },
     "metadata": {
      "needs_background": "light"
     },
     "output_type": "display_data"
    }
   ],
   "source": [
    "plt.bar(np.linspace(1,22,10,endpoint=True),counts)"
   ]
  },
  {
   "cell_type": "markdown",
   "id": "5ed1f295",
   "metadata": {},
   "source": [
    "## 3.Binning and plotting degree distributions"
   ]
  },
  {
   "cell_type": "code",
   "execution_count": 225,
   "id": "ba14295e",
   "metadata": {},
   "outputs": [
    {
     "data": {
      "image/png": "[encoded data removed]",
      "text/plain": [
       "<Figure size 432x288 with 1 Axes>"
      ]
     },
     "metadata": {},
     "output_type": "display_data"
    }
   ],
   "source": [
    "ERP=nx.random_graphs.erdos_renyi_graph(5000,10/(5000-1))\n",
    "nx.draw(ERP)"
   ]
  },
  {
   "cell_type": "code",
   "execution_count": 277,
   "id": "5db84f8c",
   "metadata": {},
   "outputs": [],
   "source": [
    "pdv=ERP.degree()"
   ]
  },
  {
   "cell_type": "code",
   "execution_count": 278,
   "id": "435d0bef",
   "metadata": {},
   "outputs": [
    {
     "data": {
      "text/plain": [
       "DegreeView({0: 8, 1: 5, 2: 10, 3: 12, 4: 9, 5: 12, 6: 8, 7: 7, 8: 7, 9: 9, 10: 9, 11: 7, 12: 8, 13: 15, 14: 8, 15: 19, 16: 18, 17: 13, 18: 8, 19: 14, 20: 10, 21: 8, 22: 11, 23: 9, 24: 4, 25: 12, 26: 8, 27: 9, 28: 8, 29: 14, 30: 17, 31: 9, 32: 5, 33: 11, 34: 8, 35: 9, 36: 7, 37: 13, 38: 9, 39: 9, 40: 12, 41: 15, 42: 9, 43: 9, 44: 12, 45: 9, 46: 9, 47: 9, 48: 8, 49: 14, 50: 6, 51: 8, 52: 7, 53: 10, 54: 9, 55: 12, 56: 9, 57: 8, 58: 16, 59: 19, 60: 7, 61: 7, 62: 11, 63: 9, 64: 13, 65: 14, 66: 9, 67: 10, 68: 12, 69: 9, 70: 12, 71: 14, 72: 12, 73: 8, 74: 15, 75: 12, 76: 17, 77: 13, 78: 14, 79: 9, 80: 7, 81: 17, 82: 12, 83: 10, 84: 14, 85: 11, 86: 12, 87: 15, 88: 7, 89: 11, 90: 14, 91: 8, 92: 9, 93: 13, 94: 12, 95: 8, 96: 7, 97: 14, 98: 10, 99: 12, 100: 9, 101: 9, 102: 11, 103: 8, 104: 18, 105: 12, 106: 4, 107: 10, 108: 15, 109: 7, 110: 16, 111: 5, 112: 10, 113: 7, 114: 10, 115: 13, 116: 7, 117: 8, 118: 8, 119: 9, 120: 7, 121: 9, 122: 8, 123: 9, 124: 16, 125: 10, 126: 7, 127: 8, 128: 9, 129: 12, 130: 8, 131: 14, 132: 10, 133: 6, 134: 8, 135: 16, 136: 13, 137: 9, 138: 11, 139: 8, 140: 6, 141: 8, 142: 13, 143: 13, 144: 13, 145: 10, 146: 16, 147: 15, 148: 14, 149: 15, 150: 9, 151: 9, 152: 5, 153: 11, 154: 9, 155: 10, 156: 9, 157: 5, 158: 9, 159: 12, 160: 9, 161: 8, 162: 12, 163: 15, 164: 8, 165: 13, 166: 11, 167: 14, 168: 8, 169: 16, 170: 16, 171: 12, 172: 10, 173: 12, 174: 11, 175: 7, 176: 6, 177: 4, 178: 4, 179: 10, 180: 8, 181: 4, 182: 10, 183: 7, 184: 11, 185: 12, 186: 13, 187: 5, 188: 9, 189: 8, 190: 9, 191: 9, 192: 11, 193: 11, 194: 10, 195: 8, 196: 10, 197: 10, 198: 10, 199: 6, 200: 7, 201: 13, 202: 8, 203: 8, 204: 10, 205: 8, 206: 13, 207: 10, 208: 9, 209: 11, 210: 9, 211: 9, 212: 12, 213: 12, 214: 9, 215: 10, 216: 9, 217: 11, 218: 6, 219: 3, 220: 9, 221: 8, 222: 9, 223: 5, 224: 11, 225: 11, 226: 13, 227: 14, 228: 12, 229: 6, 230: 8, 231: 9, 232: 9, 233: 13, 234: 15, 235: 10, 236: 10, 237: 4, 238: 10, 239: 16, 240: 10, 241: 11, 242: 12, 243: 9, 244: 12, 245: 9, 246: 7, 247: 8, 248: 9, 249: 7, 250: 12, 251: 11, 252: 7, 253: 14, 254: 9, 255: 13, 256: 8, 257: 11, 258: 11, 259: 13, 260: 12, 261: 10, 262: 5, 263: 8, 264: 9, 265: 10, 266: 9, 267: 11, 268: 13, 269: 7, 270: 6, 271: 9, 272: 11, 273: 14, 274: 14, 275: 17, 276: 16, 277: 11, 278: 11, 279: 14, 280: 10, 281: 15, 282: 10, 283: 8, 284: 10, 285: 13, 286: 9, 287: 13, 288: 12, 289: 10, 290: 11, 291: 14, 292: 10, 293: 14, 294: 12, 295: 12, 296: 10, 297: 12, 298: 12, 299: 8, 300: 10, 301: 4, 302: 9, 303: 7, 304: 4, 305: 7, 306: 13, 307: 14, 308: 18, 309: 14, 310: 15, 311: 12, 312: 13, 313: 9, 314: 9, 315: 7, 316: 7, 317: 16, 318: 10, 319: 12, 320: 18, 321: 11, 322: 12, 323: 10, 324: 9, 325: 13, 326: 14, 327: 11, 328: 15, 329: 9, 330: 11, 331: 8, 332: 20, 333: 12, 334: 11, 335: 9, 336: 14, 337: 9, 338: 10, 339: 10, 340: 13, 341: 9, 342: 9, 343: 11, 344: 11, 345: 10, 346: 13, 347: 13, 348: 16, 349: 8, 350: 7, 351: 10, 352: 7, 353: 5, 354: 11, 355: 14, 356: 9, 357: 14, 358: 8, 359: 13, 360: 5, 361: 10, 362: 5, 363: 6, 364: 7, 365: 10, 366: 7, 367: 8, 368: 8, 369: 12, 370: 11, 371: 12, 372: 12, 373: 10, 374: 5, 375: 6, 376: 7, 377: 7, 378: 15, 379: 8, 380: 9, 381: 12, 382: 3, 383: 10, 384: 13, 385: 13, 386: 9, 387: 7, 388: 16, 389: 8, 390: 11, 391: 8, 392: 10, 393: 7, 394: 16, 395: 8, 396: 12, 397: 8, 398: 13, 399: 8, 400: 9, 401: 8, 402: 8, 403: 14, 404: 11, 405: 12, 406: 11, 407: 6, 408: 5, 409: 6, 410: 11, 411: 9, 412: 15, 413: 10, 414: 10, 415: 13, 416: 10, 417: 5, 418: 6, 419: 14, 420: 12, 421: 14, 422: 8, 423: 6, 424: 11, 425: 16, 426: 13, 427: 12, 428: 8, 429: 12, 430: 13, 431: 11, 432: 12, 433: 13, 434: 11, 435: 9, 436: 6, 437: 13, 438: 10, 439: 9, 440: 12, 441: 9, 442: 5, 443: 15, 444: 11, 445: 16, 446: 12, 447: 9, 448: 7, 449: 6, 450: 4, 451: 11, 452: 8, 453: 5, 454: 6, 455: 8, 456: 9, 457: 9, 458: 8, 459: 8, 460: 6, 461: 7, 462: 12, 463: 14, 464: 8, 465: 9, 466: 12, 467: 9, 468: 11, 469: 15, 470: 14, 471: 7, 472: 12, 473: 10, 474: 10, 475: 6, 476: 12, 477: 9, 478: 10, 479: 10, 480: 5, 481: 8, 482: 9, 483: 7, 484: 9, 485: 14, 486: 12, 487: 12, 488: 13, 489: 10, 490: 7, 491: 12, 492: 9, 493: 6, 494: 18, 495: 13, 496: 8, 497: 10, 498: 4, 499: 14, 500: 16, 501: 11, 502: 8, 503: 6, 504: 9, 505: 8, 506: 8, 507: 15, 508: 14, 509: 14, 510: 15, 511: 13, 512: 5, 513: 9, 514: 10, 515: 15, 516: 11, 517: 12, 518: 10, 519: 7, 520: 11, 521: 11, 522: 3, 523: 16, 524: 11, 525: 6, 526: 7, 527: 9, 528: 6, 529: 9, 530: 9, 531: 9, 532: 13, 533: 7, 534: 10, 535: 12, 536: 5, 537: 13, 538: 5, 539: 11, 540: 10, 541: 6, 542: 7, 543: 12, 544: 15, 545: 16, 546: 11, 547: 10, 548: 13, 549: 9, 550: 8, 551: 18, 552: 11, 553: 14, 554: 11, 555: 9, 556: 12, 557: 11, 558: 17, 559: 7, 560: 15, 561: 17, 562: 6, 563: 7, 564: 12, 565: 7, 566: 4, 567: 9, 568: 9, 569: 7, 570: 13, 571: 9, 572: 6, 573: 10, 574: 12, 575: 7, 576: 13, 577: 8, 578: 8, 579: 10, 580: 10, 581: 15, 582: 10, 583: 5, 584: 11, 585: 12, 586: 8, 587: 8, 588: 19, 589: 8, 590: 13, 591: 14, 592: 9, 593: 9, 594: 7, 595: 8, 596: 13, 597: 8, 598: 13, 599: 11, 600: 11, 601: 7, 602: 11, 603: 5, 604: 14, 605: 7, 606: 8, 607: 9, 608: 13, 609: 15, 610: 13, 611: 11, 612: 11, 613: 13, 614: 11, 615: 10, 616: 9, 617: 6, 618: 8, 619: 11, 620: 9, 621: 4, 622: 9, 623: 11, 624: 16, 625: 13, 626: 9, 627: 14, 628: 11, 629: 7, 630: 13, 631: 6, 632: 9, 633: 8, 634: 12, 635: 14, 636: 13, 637: 11, 638: 15, 639: 9, 640: 14, 641: 15, 642: 13, 643: 9, 644: 8, 645: 9, 646: 9, 647: 14, 648: 12, 649: 14, 650: 8, 651: 7, 652: 8, 653: 14, 654: 12, 655: 9, 656: 8, 657: 7, 658: 7, 659: 13, 660: 7, 661: 8, 662: 13, 663: 9, 664: 11, 665: 11, 666: 10, 667: 10, 668: 11, 669: 7, 670: 7, 671: 19, 672: 7, 673: 7, 674: 13, 675: 13, 676: 15, 677: 12, 678: 16, 679: 12, 680: 14, 681: 16, 682: 5, 683: 10, 684: 9, 685: 16, 686: 12, 687: 14, 688: 12, 689: 3, 690: 10, 691: 13, 692: 4, 693: 13, 694: 4, 695: 6, 696: 8, 697: 15, 698: 7, 699: 9, 700: 10, 701: 10, 702: 13, 703: 8, 704: 11, 705: 5, 706: 2, 707: 14, 708: 7, 709: 7, 710: 10, 711: 13, 712: 11, 713: 10, 714: 10, 715: 5, 716: 6, 717: 7, 718: 8, 719: 10, 720: 12, 721: 13, 722: 10, 723: 12, 724: 12, 725: 10, 726: 7, 727: 3, 728: 8, 729: 8, 730: 7, 731: 10, 732: 16, 733: 6, 734: 11, 735: 4, 736: 6, 737: 8, 738: 14, 739: 7, 740: 8, 741: 9, 742: 11, 743: 9, 744: 11, 745: 14, 746: 21, 747: 10, 748: 7, 749: 12, 750: 9, 751: 14, 752: 11, 753: 11, 754: 11, 755: 8, 756: 13, 757: 13, 758: 12, 759: 6, 760: 9, 761: 13, 762: 9, 763: 12, 764: 9, 765: 9, 766: 10, 767: 6, 768: 6, 769: 8, 770: 9, 771: 7, 772: 13, 773: 7, 774: 10, 775: 6, 776: 9, 777: 10, 778: 7, 779: 7, 780: 9, 781: 8, 782: 4, 783: 9, 784: 8, 785: 7, 786: 10, 787: 10, 788: 9, 789: 13, 790: 8, 791: 8, 792: 5, 793: 7, 794: 9, 795: 13, 796: 15, 797: 9, 798: 5, 799: 7, 800: 12, 801: 13, 802: 8, 803: 10, 804: 8, 805: 10, 806: 14, 807: 10, 808: 9, 809: 8, 810: 8, 811: 6, 812: 10, 813: 12, 814: 4, 815: 14, 816: 10, 817: 11, 818: 4, 819: 15, 820: 12, 821: 6, 822: 12, 823: 18, 824: 5, 825: 11, 826: 11, 827: 7, 828: 10, 829: 15, 830: 13, 831: 8, 832: 7, 833: 9, 834: 7, 835: 11, 836: 6, 837: 9, 838: 9, 839: 11, 840: 8, 841: 6, 842: 7, 843: 4, 844: 8, 845: 7, 846: 4, 847: 9, 848: 12, 849: 7, 850: 16, 851: 11, 852: 12, 853: 5, 854: 13, 855: 11, 856: 13, 857: 9, 858: 11, 859: 9, 860: 6, 861: 9, 862: 13, 863: 10, 864: 15, 865: 9, 866: 8, 867: 8, 868: 15, 869: 12, 870: 6, 871: 16, 872: 6, 873: 13, 874: 10, 875: 10, 876: 6, 877: 10, 878: 14, 879: 11, 880: 7, 881: 6, 882: 8, 883: 11, 884: 13, 885: 10, 886: 11, 887: 12, 888: 8, 889: 9, 890: 13, 891: 13, 892: 4, 893: 10, 894: 7, 895: 13, 896: 7, 897: 16, 898: 11, 899: 12, 900: 14, 901: 6, 902: 4, 903: 14, 904: 8, 905: 9, 906: 11, 907: 15, 908: 12, 909: 16, 910: 9, 911: 15, 912: 10, 913: 8, 914: 12, 915: 15, 916: 6, 917: 12, 918: 13, 919: 6, 920: 8, 921: 11, 922: 14, 923: 10, 924: 13, 925: 5, 926: 14, 927: 13, 928: 5, 929: 13, 930: 9, 931: 7, 932: 3, 933: 7, 934: 5, 935: 12, 936: 16, 937: 8, 938: 6, 939: 10, 940: 12, 941: 11, 942: 8, 943: 10, 944: 9, 945: 10, 946: 11, 947: 10, 948: 8, 949: 8, 950: 7, 951: 8, 952: 8, 953: 5, 954: 16, 955: 11, 956: 13, 957: 8, 958: 7, 959: 16, 960: 7, 961: 8, 962: 11, 963: 10, 964: 10, 965: 9, 966: 11, 967: 6, 968: 9, 969: 9, 970: 13, 971: 12, 972: 18, 973: 11, 974: 8, 975: 8, 976: 8, 977: 13, 978: 13, 979: 10, 980: 13, 981: 9, 982: 9, 983: 12, 984: 8, 985: 13, 986: 10, 987: 13, 988: 12, 989: 5, 990: 8, 991: 8, 992: 7, 993: 4, 994: 17, 995: 4, 996: 8, 997: 15, 998: 7, 999: 10, 1000: 8, 1001: 15, 1002: 10, 1003: 11, 1004: 7, 1005: 10, 1006: 5, 1007: 13, 1008: 13, 1009: 10, 1010: 10, 1011: 11, 1012: 8, 1013: 14, 1014: 14, 1015: 13, 1016: 9, 1017: 11, 1018: 15, 1019: 8, 1020: 10, 1021: 14, 1022: 6, 1023: 11, 1024: 7, 1025: 12, 1026: 14, 1027: 6, 1028: 10, 1029: 10, 1030: 9, 1031: 11, 1032: 11, 1033: 11, 1034: 6, 1035: 11, 1036: 14, 1037: 12, 1038: 6, 1039: 6, 1040: 12, 1041: 10, 1042: 8, 1043: 10, 1044: 6, 1045: 9, 1046: 6, 1047: 12, 1048: 10, 1049: 9, 1050: 6, 1051: 10, 1052: 9, 1053: 10, 1054: 7, 1055: 9, 1056: 9, 1057: 11, 1058: 11, 1059: 11, 1060: 7, 1061: 12, 1062: 12, 1063: 8, 1064: 9, 1065: 10, 1066: 12, 1067: 11, 1068: 7, 1069: 12, 1070: 12, 1071: 10, 1072: 12, 1073: 7, 1074: 13, 1075: 12, 1076: 14, 1077: 14, 1078: 9, 1079: 11, 1080: 7, 1081: 17, 1082: 10, 1083: 6, 1084: 10, 1085: 7, 1086: 12, 1087: 14, 1088: 8, 1089: 11, 1090: 14, 1091: 10, 1092: 12, 1093: 18, 1094: 9, 1095: 6, 1096: 5, 1097: 13, 1098: 8, 1099: 15, 1100: 10, 1101: 8, 1102: 12, 1103: 9, 1104: 9, 1105: 10, 1106: 9, 1107: 10, 1108: 6, 1109: 14, 1110: 13, 1111: 7, 1112: 15, 1113: 9, 1114: 22, 1115: 8, 1116: 10, 1117: 16, 1118: 11, 1119: 13, 1120: 6, 1121: 8, 1122: 12, 1123: 8, 1124: 11, 1125: 17, 1126: 9, 1127: 9, 1128: 11, 1129: 15, 1130: 13, 1131: 6, 1132: 11, 1133: 5, 1134: 9, 1135: 11, 1136: 7, 1137: 11, 1138: 14, 1139: 8, 1140: 7, 1141: 6, 1142: 9, 1143: 10, 1144: 7, 1145: 8, 1146: 13, 1147: 8, 1148: 17, 1149: 9, 1150: 17, 1151: 2, 1152: 6, 1153: 11, 1154: 13, 1155: 8, 1156: 9, 1157: 8, 1158: 9, 1159: 13, 1160: 7, 1161: 12, 1162: 11, 1163: 12, 1164: 12, 1165: 11, 1166: 6, 1167: 14, 1168: 10, 1169: 10, 1170: 10, 1171: 14, 1172: 9, 1173: 10, 1174: 10, 1175: 13, 1176: 9, 1177: 9, 1178: 10, 1179: 5, 1180: 15, 1181: 9, 1182: 8, 1183: 5, 1184: 13, 1185: 19, 1186: 11, 1187: 7, 1188: 4, 1189: 5, 1190: 13, 1191: 11, 1192: 7, 1193: 9, 1194: 4, 1195: 7, 1196: 11, 1197: 14, 1198: 5, 1199: 9, 1200: 11, 1201: 6, 1202: 6, 1203: 13, 1204: 9, 1205: 11, 1206: 14, 1207: 10, 1208: 2, 1209: 10, 1210: 13, 1211: 10, 1212: 6, 1213: 10, 1214: 8, 1215: 12, 1216: 12, 1217: 9, 1218: 12, 1219: 14, 1220: 6, 1221: 11, 1222: 15, 1223: 7, 1224: 12, 1225: 8, 1226: 11, 1227: 7, 1228: 4, 1229: 10, 1230: 12, 1231: 8, 1232: 9, 1233: 14, 1234: 7, 1235: 12, 1236: 8, 1237: 12, 1238: 11, 1239: 11, 1240: 10, 1241: 12, 1242: 11, 1243: 9, 1244: 15, 1245: 7, 1246: 18, 1247: 9, 1248: 9, 1249: 8, 1250: 8, 1251: 5, 1252: 8, 1253: 16, 1254: 10, 1255: 16, 1256: 13, 1257: 9, 1258: 10, 1259: 13, 1260: 16, 1261: 11, 1262: 8, 1263: 8, 1264: 8, 1265: 10, 1266: 16, 1267: 9, 1268: 9, 1269: 2, 1270: 8, 1271: 8, 1272: 10, 1273: 10, 1274: 11, 1275: 11, 1276: 15, 1277: 10, 1278: 14, 1279: 7, 1280: 5, 1281: 13, 1282: 7, 1283: 5, 1284: 8, 1285: 8, 1286: 9, 1287: 14, 1288: 9, 1289: 11, 1290: 6, 1291: 11, 1292: 10, 1293: 11, 1294: 8, 1295: 4, 1296: 10, 1297: 8, 1298: 4, 1299: 9, 1300: 13, 1301: 8, 1302: 12, 1303: 12, 1304: 13, 1305: 11, 1306: 11, 1307: 14, 1308: 13, 1309: 11, 1310: 14, 1311: 12, 1312: 15, 1313: 14, 1314: 8, 1315: 9, 1316: 9, 1317: 12, 1318: 11, 1319: 9, 1320: 13, 1321: 8, 1322: 12, 1323: 9, 1324: 8, 1325: 10, 1326: 4, 1327: 8, 1328: 11, 1329: 7, 1330: 9, 1331: 8, 1332: 15, 1333: 6, 1334: 7, 1335: 14, 1336: 11, 1337: 10, 1338: 8, 1339: 11, 1340: 19, 1341: 7, 1342: 9, 1343: 10, 1344: 11, 1345: 10, 1346: 12, 1347: 12, 1348: 5, 1349: 14, 1350: 8, 1351: 7, 1352: 8, 1353: 15, 1354: 12, 1355: 11, 1356: 8, 1357: 14, 1358: 13, 1359: 8, 1360: 9, 1361: 12, 1362: 8, 1363: 9, 1364: 13, 1365: 10, 1366: 12, 1367: 12, 1368: 8, 1369: 6, 1370: 7, 1371: 10, 1372: 14, 1373: 10, 1374: 9, 1375: 11, 1376: 15, 1377: 6, 1378: 6, 1379: 10, 1380: 6, 1381: 8, 1382: 6, 1383: 10, 1384: 6, 1385: 16, 1386: 11, 1387: 13, 1388: 15, 1389: 12, 1390: 6, 1391: 6, 1392: 11, 1393: 10, 1394: 12, 1395: 12, 1396: 12, 1397: 12, 1398: 8, 1399: 10, 1400: 18, 1401: 9, 1402: 14, 1403: 13, 1404: 9, 1405: 12, 1406: 13, 1407: 9, 1408: 13, 1409: 15, 1410: 11, 1411: 12, 1412: 13, 1413: 7, 1414: 12, 1415: 9, 1416: 14, 1417: 10, 1418: 7, 1419: 11, 1420: 7, 1421: 11, 1422: 7, 1423: 3, 1424: 9, 1425: 9, 1426: 11, 1427: 9, 1428: 7, 1429: 15, 1430: 14, 1431: 11, 1432: 15, 1433: 7, 1434: 10, 1435: 12, 1436: 15, 1437: 15, 1438: 10, 1439: 10, 1440: 15, 1441: 14, 1442: 9, 1443: 9, 1444: 7, 1445: 10, 1446: 9, 1447: 18, 1448: 10, 1449: 8, 1450: 15, 1451: 12, 1452: 10, 1453: 9, 1454: 7, 1455: 8, 1456: 8, 1457: 11, 1458: 10, 1459: 13, 1460: 10, 1461: 10, 1462: 9, 1463: 7, 1464: 14, 1465: 13, 1466: 13, 1467: 12, 1468: 8, 1469: 5, 1470: 12, 1471: 10, 1472: 12, 1473: 8, 1474: 11, 1475: 11, 1476: 10, 1477: 13, 1478: 6, 1479: 14, 1480: 9, 1481: 9, 1482: 5, 1483: 10, 1484: 11, 1485: 14, 1486: 6, 1487: 15, 1488: 13, 1489: 9, 1490: 9, 1491: 12, 1492: 9, 1493: 7, 1494: 10, 1495: 11, 1496: 10, 1497: 10, 1498: 10, 1499: 8, 1500: 8, 1501: 9, 1502: 6, 1503: 4, 1504: 9, 1505: 9, 1506: 9, 1507: 7, 1508: 7, 1509: 17, 1510: 7, 1511: 4, 1512: 13, 1513: 9, 1514: 9, 1515: 3, 1516: 12, 1517: 7, 1518: 8, 1519: 10, 1520: 11, 1521: 13, 1522: 12, 1523: 9, 1524: 12, 1525: 5, 1526: 5, 1527: 18, 1528: 8, 1529: 9, 1530: 8, 1531: 9, 1532: 5, 1533: 14, 1534: 12, 1535: 14, 1536: 11, 1537: 6, 1538: 10, 1539: 12, 1540: 5, 1541: 14, 1542: 13, 1543: 16, 1544: 12, 1545: 15, 1546: 10, 1547: 8, 1548: 11, 1549: 9, 1550: 8, 1551: 9, 1552: 19, 1553: 18, 1554: 12, 1555: 6, 1556: 14, 1557: 17, 1558: 8, 1559: 5, 1560: 8, 1561: 10, 1562: 8, 1563: 7, 1564: 10, 1565: 6, 1566: 15, 1567: 9, 1568: 9, 1569: 8, 1570: 8, 1571: 13, 1572: 10, 1573: 7, 1574: 8, 1575: 8, 1576: 5, 1577: 13, 1578: 9, 1579: 12, 1580: 12, 1581: 6, 1582: 11, 1583: 16, 1584: 9, 1585: 9, 1586: 10, 1587: 13, 1588: 10, 1589: 6, 1590: 10, 1591: 9, 1592: 7, 1593: 12, 1594: 14, 1595: 15, 1596: 5, 1597: 7, 1598: 16, 1599: 9, 1600: 15, 1601: 7, 1602: 15, 1603: 12, 1604: 6, 1605: 9, 1606: 15, 1607: 10, 1608: 17, 1609: 8, 1610: 7, 1611: 10, 1612: 8, 1613: 6, 1614: 17, 1615: 6, 1616: 14, 1617: 9, 1618: 10, 1619: 4, 1620: 12, 1621: 9, 1622: 9, 1623: 9, 1624: 10, 1625: 9, 1626: 10, 1627: 9, 1628: 3, 1629: 7, 1630: 9, 1631: 9, 1632: 16, 1633: 9, 1634: 7, 1635: 6, 1636: 13, 1637: 11, 1638: 11, 1639: 10, 1640: 12, 1641: 16, 1642: 8, 1643: 7, 1644: 12, 1645: 10, 1646: 8, 1647: 9, 1648: 11, 1649: 9, 1650: 7, 1651: 6, 1652: 11, 1653: 12, 1654: 10, 1655: 7, 1656: 16, 1657: 10, 1658: 8, 1659: 7, 1660: 9, 1661: 13, 1662: 15, 1663: 10, 1664: 9, 1665: 12, 1666: 5, 1667: 9, 1668: 11, 1669: 7, 1670: 2, 1671: 12, 1672: 13, 1673: 8, 1674: 17, 1675: 11, 1676: 10, 1677: 15, 1678: 7, 1679: 9, 1680: 11, 1681: 10, 1682: 10, 1683: 9, 1684: 7, 1685: 8, 1686: 14, 1687: 9, 1688: 9, 1689: 7, 1690: 9, 1691: 10, 1692: 8, 1693: 12, 1694: 10, 1695: 17, 1696: 8, 1697: 13, 1698: 10, 1699: 10, 1700: 9, 1701: 10, 1702: 13, 1703: 20, 1704: 8, 1705: 12, 1706: 15, 1707: 12, 1708: 15, 1709: 10, 1710: 9, 1711: 10, 1712: 17, 1713: 6, 1714: 13, 1715: 7, 1716: 8, 1717: 12, 1718: 11, 1719: 6, 1720: 10, 1721: 9, 1722: 7, 1723: 11, 1724: 11, 1725: 5, 1726: 7, 1727: 9, 1728: 15, 1729: 5, 1730: 12, 1731: 7, 1732: 14, 1733: 11, 1734: 12, 1735: 13, 1736: 7, 1737: 11, 1738: 6, 1739: 16, 1740: 13, 1741: 12, 1742: 6, 1743: 12, 1744: 10, 1745: 10, 1746: 6, 1747: 13, 1748: 5, 1749: 10, 1750: 4, 1751: 7, 1752: 6, 1753: 14, 1754: 6, 1755: 9, 1756: 6, 1757: 12, 1758: 12, 1759: 12, 1760: 11, 1761: 13, 1762: 12, 1763: 14, 1764: 6, 1765: 7, 1766: 14, 1767: 8, 1768: 10, 1769: 11, 1770: 9, 1771: 10, 1772: 8, 1773: 10, 1774: 10, 1775: 13, 1776: 16, 1777: 16, 1778: 14, 1779: 11, 1780: 11, 1781: 9, 1782: 11, 1783: 15, 1784: 12, 1785: 9, 1786: 9, 1787: 9, 1788: 11, 1789: 5, 1790: 14, 1791: 5, 1792: 10, 1793: 11, 1794: 12, 1795: 8, 1796: 6, 1797: 9, 1798: 5, 1799: 8, 1800: 11, 1801: 8, 1802: 9, 1803: 13, 1804: 6, 1805: 12, 1806: 12, 1807: 7, 1808: 10, 1809: 13, 1810: 12, 1811: 6, 1812: 7, 1813: 10, 1814: 14, 1815: 17, 1816: 12, 1817: 6, 1818: 7, 1819: 13, 1820: 15, 1821: 9, 1822: 9, 1823: 13, 1824: 11, 1825: 14, 1826: 5, 1827: 12, 1828: 4, 1829: 12, 1830: 11, 1831: 12, 1832: 11, 1833: 5, 1834: 12, 1835: 9, 1836: 8, 1837: 4, 1838: 16, 1839: 9, 1840: 17, 1841: 14, 1842: 9, 1843: 9, 1844: 16, 1845: 12, 1846: 6, 1847: 8, 1848: 11, 1849: 10, 1850: 15, 1851: 7, 1852: 13, 1853: 19, 1854: 10, 1855: 10, 1856: 9, 1857: 10, 1858: 15, 1859: 14, 1860: 9, 1861: 10, 1862: 9, 1863: 12, 1864: 8, 1865: 4, 1866: 7, 1867: 6, 1868: 15, 1869: 8, 1870: 10, 1871: 11, 1872: 11, 1873: 12, 1874: 9, 1875: 9, 1876: 10, 1877: 14, 1878: 10, 1879: 8, 1880: 12, 1881: 14, 1882: 8, 1883: 10, 1884: 12, 1885: 5, 1886: 5, 1887: 9, 1888: 9, 1889: 8, 1890: 8, 1891: 18, 1892: 8, 1893: 9, 1894: 14, 1895: 5, 1896: 13, 1897: 8, 1898: 8, 1899: 15, 1900: 4, 1901: 11, 1902: 12, 1903: 13, 1904: 3, 1905: 7, 1906: 11, 1907: 13, 1908: 9, 1909: 6, 1910: 7, 1911: 10, 1912: 7, 1913: 8, 1914: 13, 1915: 9, 1916: 8, 1917: 13, 1918: 10, 1919: 16, 1920: 3, 1921: 11, 1922: 7, 1923: 15, 1924: 15, 1925: 9, 1926: 6, 1927: 9, 1928: 5, 1929: 10, 1930: 10, 1931: 9, 1932: 11, 1933: 9, 1934: 16, 1935: 10, 1936: 8, 1937: 5, 1938: 11, 1939: 8, 1940: 12, 1941: 12, 1942: 10, 1943: 9, 1944: 14, 1945: 5, 1946: 9, 1947: 9, 1948: 9, 1949: 9, 1950: 11, 1951: 10, 1952: 9, 1953: 12, 1954: 12, 1955: 11, 1956: 15, 1957: 7, 1958: 13, 1959: 8, 1960: 7, 1961: 11, 1962: 19, 1963: 8, 1964: 9, 1965: 12, 1966: 5, 1967: 14, 1968: 9, 1969: 11, 1970: 4, 1971: 14, 1972: 10, 1973: 5, 1974: 11, 1975: 14, 1976: 6, 1977: 8, 1978: 10, 1979: 5, 1980: 15, 1981: 9, 1982: 8, 1983: 9, 1984: 5, 1985: 15, 1986: 13, 1987: 11, 1988: 8, 1989: 9, 1990: 4, 1991: 7, 1992: 10, 1993: 12, 1994: 7, 1995: 6, 1996: 10, 1997: 9, 1998: 10, 1999: 9, 2000: 12, 2001: 5, 2002: 11, 2003: 13, 2004: 7, 2005: 7, 2006: 11, 2007: 11, 2008: 12, 2009: 6, 2010: 10, 2011: 12, 2012: 4, 2013: 11, 2014: 17, 2015: 6, 2016: 9, 2017: 11, 2018: 10, 2019: 14, 2020: 8, 2021: 8, 2022: 7, 2023: 15, 2024: 7, 2025: 14, 2026: 4, 2027: 6, 2028: 5, 2029: 7, 2030: 9, 2031: 9, 2032: 12, 2033: 8, 2034: 14, 2035: 10, 2036: 10, 2037: 8, 2038: 13, 2039: 10, 2040: 9, 2041: 12, 2042: 7, 2043: 11, 2044: 6, 2045: 11, 2046: 10, 2047: 11, 2048: 13, 2049: 6, 2050: 10, 2051: 15, 2052: 7, 2053: 11, 2054: 10, 2055: 11, 2056: 10, 2057: 11, 2058: 8, 2059: 15, 2060: 6, 2061: 5, 2062: 10, 2063: 7, 2064: 8, 2065: 7, 2066: 16, 2067: 9, 2068: 11, 2069: 8, 2070: 9, 2071: 17, 2072: 9, 2073: 14, 2074: 9, 2075: 10, 2076: 10, 2077: 11, 2078: 10, 2079: 7, 2080: 11, 2081: 11, 2082: 11, 2083: 11, 2084: 9, 2085: 5, 2086: 9, 2087: 9, 2088: 7, 2089: 13, 2090: 7, 2091: 10, 2092: 13, 2093: 9, 2094: 15, 2095: 15, 2096: 7, 2097: 10, 2098: 14, 2099: 12, 2100: 9, 2101: 5, 2102: 8, 2103: 11, 2104: 11, 2105: 7, 2106: 5, 2107: 12, 2108: 10, 2109: 7, 2110: 15, 2111: 5, 2112: 10, 2113: 8, 2114: 4, 2115: 15, 2116: 4, 2117: 9, 2118: 12, 2119: 3, 2120: 7, 2121: 6, 2122: 8, 2123: 12, 2124: 8, 2125: 14, 2126: 5, 2127: 12, 2128: 16, 2129: 14, 2130: 7, 2131: 14, 2132: 8, 2133: 11, 2134: 11, 2135: 12, 2136: 13, 2137: 13, 2138: 9, 2139: 9, 2140: 9, 2141: 10, 2142: 10, 2143: 12, 2144: 11, 2145: 11, 2146: 14, 2147: 7, 2148: 12, 2149: 10, 2150: 10, 2151: 11, 2152: 10, 2153: 4, 2154: 12, 2155: 4, 2156: 8, 2157: 12, 2158: 3, 2159: 12, 2160: 12, 2161: 16, 2162: 11, 2163: 8, 2164: 5, 2165: 12, 2166: 4, 2167: 7, 2168: 11, 2169: 6, 2170: 15, 2171: 11, 2172: 8, 2173: 10, 2174: 11, 2175: 13, 2176: 11, 2177: 12, 2178: 4, 2179: 11, 2180: 9, 2181: 10, 2182: 19, 2183: 16, 2184: 15, 2185: 8, 2186: 11, 2187: 6, 2188: 12, 2189: 16, 2190: 9, 2191: 9, 2192: 10, 2193: 13, 2194: 11, 2195: 11, 2196: 11, 2197: 10, 2198: 14, 2199: 15, 2200: 9, 2201: 8, 2202: 12, 2203: 9, 2204: 7, 2205: 10, 2206: 16, 2207: 4, 2208: 12, 2209: 9, 2210: 13, 2211: 7, 2212: 4, 2213: 14, 2214: 5, 2215: 11, 2216: 8, 2217: 13, 2218: 8, 2219: 11, 2220: 18, 2221: 12, 2222: 9, 2223: 13, 2224: 9, 2225: 17, 2226: 6, 2227: 6, 2228: 18, 2229: 10, 2230: 13, 2231: 12, 2232: 12, 2233: 8, 2234: 13, 2235: 8, 2236: 7, 2237: 16, 2238: 10, 2239: 14, 2240: 13, 2241: 10, 2242: 18, 2243: 7, 2244: 6, 2245: 14, 2246: 15, 2247: 5, 2248: 13, 2249: 15, 2250: 12, 2251: 13, 2252: 11, 2253: 13, 2254: 6, 2255: 16, 2256: 9, 2257: 5, 2258: 14, 2259: 9, 2260: 11, 2261: 8, 2262: 9, 2263: 7, 2264: 3, 2265: 4, 2266: 5, 2267: 16, 2268: 16, 2269: 10, 2270: 6, 2271: 7, 2272: 8, 2273: 8, 2274: 6, 2275: 13, 2276: 12, 2277: 9, 2278: 10, 2279: 17, 2280: 9, 2281: 13, 2282: 11, 2283: 13, 2284: 12, 2285: 8, 2286: 16, 2287: 14, 2288: 12, 2289: 16, 2290: 9, 2291: 7, 2292: 17, 2293: 6, 2294: 9, 2295: 12, 2296: 10, 2297: 9, 2298: 16, 2299: 8, 2300: 9, 2301: 12, 2302: 13, 2303: 8, 2304: 12, 2305: 16, 2306: 9, 2307: 13, 2308: 9, 2309: 10, 2310: 10, 2311: 8, 2312: 15, 2313: 11, 2314: 8, 2315: 11, 2316: 7, 2317: 9, 2318: 11, 2319: 11, 2320: 11, 2321: 12, 2322: 14, 2323: 11, 2324: 15, 2325: 9, 2326: 8, 2327: 13, 2328: 11, 2329: 8, 2330: 9, 2331: 10, 2332: 9, 2333: 13, 2334: 7, 2335: 9, 2336: 4, 2337: 9, 2338: 10, 2339: 6, 2340: 6, 2341: 10, 2342: 6, 2343: 15, 2344: 8, 2345: 3, 2346: 11, 2347: 8, 2348: 10, 2349: 7, 2350: 8, 2351: 12, 2352: 7, 2353: 11, 2354: 12, 2355: 11, 2356: 13, 2357: 11, 2358: 5, 2359: 10, 2360: 9, 2361: 11, 2362: 9, 2363: 14, 2364: 14, 2365: 12, 2366: 10, 2367: 13, 2368: 13, 2369: 9, 2370: 9, 2371: 12, 2372: 8, 2373: 9, 2374: 17, 2375: 10, 2376: 13, 2377: 11, 2378: 14, 2379: 10, 2380: 12, 2381: 11, 2382: 10, 2383: 7, 2384: 9, 2385: 2, 2386: 7, 2387: 14, 2388: 10, 2389: 14, 2390: 5, 2391: 15, 2392: 9, 2393: 4, 2394: 10, 2395: 10, 2396: 8, 2397: 13, 2398: 9, 2399: 13, 2400: 12, 2401: 7, 2402: 10, 2403: 16, 2404: 13, 2405: 6, 2406: 8, 2407: 8, 2408: 11, 2409: 13, 2410: 13, 2411: 7, 2412: 6, 2413: 7, 2414: 10, 2415: 11, 2416: 8, 2417: 8, 2418: 16, 2419: 8, 2420: 11, 2421: 9, 2422: 7, 2423: 10, 2424: 8, 2425: 11, 2426: 9, 2427: 9, 2428: 14, 2429: 10, 2430: 12, 2431: 9, 2432: 10, 2433: 12, 2434: 10, 2435: 10, 2436: 6, 2437: 9, 2438: 14, 2439: 8, 2440: 7, 2441: 9, 2442: 13, 2443: 13, 2444: 12, 2445: 6, 2446: 9, 2447: 13, 2448: 21, 2449: 12, 2450: 15, 2451: 13, 2452: 7, 2453: 12, 2454: 14, 2455: 5, 2456: 8, 2457: 11, 2458: 11, 2459: 9, 2460: 9, 2461: 11, 2462: 13, 2463: 15, 2464: 13, 2465: 17, 2466: 16, 2467: 8, 2468: 9, 2469: 10, 2470: 12, 2471: 15, 2472: 9, 2473: 8, 2474: 13, 2475: 7, 2476: 12, 2477: 11, 2478: 5, 2479: 9, 2480: 16, 2481: 9, 2482: 9, 2483: 10, 2484: 15, 2485: 6, 2486: 4, 2487: 10, 2488: 15, 2489: 11, 2490: 10, 2491: 6, 2492: 13, 2493: 13, 2494: 9, 2495: 6, 2496: 10, 2497: 5, 2498: 13, 2499: 8, 2500: 10, 2501: 9, 2502: 10, 2503: 7, 2504: 10, 2505: 9, 2506: 12, 2507: 7, 2508: 15, 2509: 7, 2510: 13, 2511: 12, 2512: 20, 2513: 9, 2514: 8, 2515: 17, 2516: 12, 2517: 12, 2518: 15, 2519: 19, 2520: 9, 2521: 12, 2522: 7, 2523: 14, 2524: 11, 2525: 11, 2526: 9, 2527: 8, 2528: 18, 2529: 10, 2530: 5, 2531: 7, 2532: 7, 2533: 9, 2534: 6, 2535: 10, 2536: 7, 2537: 8, 2538: 9, 2539: 7, 2540: 10, 2541: 12, 2542: 11, 2543: 5, 2544: 11, 2545: 3, 2546: 12, 2547: 8, 2548: 5, 2549: 7, 2550: 6, 2551: 11, 2552: 9, 2553: 9, 2554: 8, 2555: 8, 2556: 9, 2557: 10, 2558: 11, 2559: 13, 2560: 9, 2561: 15, 2562: 5, 2563: 10, 2564: 13, 2565: 9, 2566: 7, 2567: 11, 2568: 10, 2569: 7, 2570: 7, 2571: 10, 2572: 10, 2573: 11, 2574: 17, 2575: 8, 2576: 10, 2577: 12, 2578: 9, 2579: 11, 2580: 10, 2581: 7, 2582: 11, 2583: 11, 2584: 5, 2585: 10, 2586: 12, 2587: 6, 2588: 14, 2589: 9, 2590: 10, 2591: 10, 2592: 6, 2593: 11, 2594: 10, 2595: 9, 2596: 6, 2597: 10, 2598: 16, 2599: 11, 2600: 10, 2601: 10, 2602: 10, 2603: 5, 2604: 7, 2605: 9, 2606: 7, 2607: 10, 2608: 14, 2609: 12, 2610: 11, 2611: 8, 2612: 5, 2613: 5, 2614: 7, 2615: 15, 2616: 13, 2617: 10, 2618: 7, 2619: 9, 2620: 8, 2621: 9, 2622: 15, 2623: 15, 2624: 9, 2625: 10, 2626: 10, 2627: 16, 2628: 12, 2629: 16, 2630: 11, 2631: 11, 2632: 8, 2633: 14, 2634: 7, 2635: 9, 2636: 12, 2637: 11, 2638: 8, 2639: 9, 2640: 8, 2641: 14, 2642: 11, 2643: 8, 2644: 8, 2645: 7, 2646: 7, 2647: 12, 2648: 12, 2649: 6, 2650: 14, 2651: 15, 2652: 12, 2653: 16, 2654: 18, 2655: 3, 2656: 8, 2657: 10, 2658: 8, 2659: 11, 2660: 7, 2661: 11, 2662: 17, 2663: 15, 2664: 9, 2665: 9, 2666: 6, 2667: 8, 2668: 10, 2669: 9, 2670: 11, 2671: 7, 2672: 9, 2673: 14, 2674: 18, 2675: 9, 2676: 12, 2677: 13, 2678: 3, 2679: 5, 2680: 11, 2681: 6, 2682: 9, 2683: 9, 2684: 16, 2685: 10, 2686: 9, 2687: 12, 2688: 4, 2689: 8, 2690: 11, 2691: 13, 2692: 8, 2693: 10, 2694: 13, 2695: 10, 2696: 9, 2697: 12, 2698: 7, 2699: 13, 2700: 8, 2701: 5, 2702: 14, 2703: 10, 2704: 13, 2705: 14, 2706: 11, 2707: 14, 2708: 4, 2709: 12, 2710: 10, 2711: 12, 2712: 10, 2713: 11, 2714: 4, 2715: 8, 2716: 7, 2717: 11, 2718: 8, 2719: 7, 2720: 11, 2721: 10, 2722: 9, 2723: 8, 2724: 10, 2725: 8, 2726: 10, 2727: 12, 2728: 12, 2729: 11, 2730: 15, 2731: 5, 2732: 9, 2733: 10, 2734: 6, 2735: 7, 2736: 9, 2737: 13, 2738: 6, 2739: 12, 2740: 13, 2741: 10, 2742: 14, 2743: 10, 2744: 15, 2745: 14, 2746: 9, 2747: 7, 2748: 6, 2749: 7, 2750: 9, 2751: 17, 2752: 5, 2753: 7, 2754: 7, 2755: 7, 2756: 10, 2757: 8, 2758: 13, 2759: 9, 2760: 13, 2761: 8, 2762: 6, 2763: 16, 2764: 4, 2765: 4, 2766: 5, 2767: 4, 2768: 5, 2769: 10, 2770: 9, 2771: 6, 2772: 13, 2773: 13, 2774: 8, 2775: 11, 2776: 7, 2777: 6, 2778: 8, 2779: 7, 2780: 16, 2781: 15, 2782: 4, 2783: 13, 2784: 13, 2785: 16, 2786: 6, 2787: 13, 2788: 9, 2789: 9, 2790: 13, 2791: 9, 2792: 6, 2793: 10, 2794: 7, 2795: 10, 2796: 13, 2797: 18, 2798: 10, 2799: 8, 2800: 10, 2801: 8, 2802: 15, 2803: 7, 2804: 16, 2805: 10, 2806: 14, 2807: 7, 2808: 11, 2809: 7, 2810: 5, 2811: 8, 2812: 15, 2813: 8, 2814: 9, 2815: 15, 2816: 9, 2817: 8, 2818: 11, 2819: 9, 2820: 13, 2821: 10, 2822: 13, 2823: 8, 2824: 9, 2825: 8, 2826: 14, 2827: 11, 2828: 14, 2829: 4, 2830: 5, 2831: 9, 2832: 11, 2833: 14, 2834: 3, 2835: 5, 2836: 8, 2837: 7, 2838: 8, 2839: 10, 2840: 15, 2841: 6, 2842: 11, 2843: 6, 2844: 11, 2845: 18, 2846: 4, 2847: 10, 2848: 10, 2849: 11, 2850: 13, 2851: 7, 2852: 7, 2853: 13, 2854: 6, 2855: 9, 2856: 13, 2857: 7, 2858: 7, 2859: 9, 2860: 8, 2861: 15, 2862: 8, 2863: 15, 2864: 11, 2865: 12, 2866: 14, 2867: 7, 2868: 10, 2869: 9, 2870: 7, 2871: 8, 2872: 11, 2873: 10, 2874: 10, 2875: 14, 2876: 8, 2877: 10, 2878: 9, 2879: 9, 2880: 12, 2881: 14, 2882: 12, 2883: 5, 2884: 12, 2885: 6, 2886: 11, 2887: 5, 2888: 15, 2889: 5, 2890: 14, 2891: 9, 2892: 12, 2893: 5, 2894: 11, 2895: 17, 2896: 14, 2897: 14, 2898: 9, 2899: 10, 2900: 7, 2901: 11, 2902: 13, 2903: 11, 2904: 14, 2905: 4, 2906: 14, 2907: 12, 2908: 13, 2909: 14, 2910: 12, 2911: 9, 2912: 10, 2913: 10, 2914: 12, 2915: 17, 2916: 14, 2917: 8, 2918: 14, 2919: 6, 2920: 11, 2921: 8, 2922: 13, 2923: 11, 2924: 8, 2925: 16, 2926: 16, 2927: 5, 2928: 12, 2929: 6, 2930: 13, 2931: 15, 2932: 6, 2933: 14, 2934: 8, 2935: 14, 2936: 9, 2937: 11, 2938: 14, 2939: 15, 2940: 14, 2941: 8, 2942: 14, 2943: 18, 2944: 10, 2945: 14, 2946: 9, 2947: 12, 2948: 12, 2949: 9, 2950: 15, 2951: 10, 2952: 10, 2953: 15, 2954: 9, 2955: 9, 2956: 17, 2957: 6, 2958: 12, 2959: 13, 2960: 11, 2961: 10, 2962: 9, 2963: 13, 2964: 11, 2965: 11, 2966: 6, 2967: 18, 2968: 10, 2969: 10, 2970: 10, 2971: 7, 2972: 8, 2973: 13, 2974: 12, 2975: 5, 2976: 15, 2977: 11, 2978: 5, 2979: 10, 2980: 7, 2981: 12, 2982: 9, 2983: 10, 2984: 9, 2985: 15, 2986: 10, 2987: 10, 2988: 5, 2989: 6, 2990: 20, 2991: 8, 2992: 8, 2993: 13, 2994: 10, 2995: 7, 2996: 7, 2997: 7, 2998: 8, 2999: 12, 3000: 11, 3001: 8, 3002: 5, 3003: 7, 3004: 10, 3005: 8, 3006: 10, 3007: 16, 3008: 9, 3009: 7, 3010: 9, 3011: 6, 3012: 9, 3013: 7, 3014: 12, 3015: 10, 3016: 7, 3017: 10, 3018: 4, 3019: 6, 3020: 14, 3021: 8, 3022: 9, 3023: 8, 3024: 11, 3025: 10, 3026: 5, 3027: 8, 3028: 17, 3029: 8, 3030: 8, 3031: 9, 3032: 5, 3033: 10, 3034: 10, 3035: 5, 3036: 16, 3037: 6, 3038: 14, 3039: 11, 3040: 7, 3041: 10, 3042: 5, 3043: 7, 3044: 9, 3045: 13, 3046: 10, 3047: 7, 3048: 10, 3049: 6, 3050: 7, 3051: 10, 3052: 12, 3053: 11, 3054: 6, 3055: 16, 3056: 16, 3057: 12, 3058: 10, 3059: 7, 3060: 9, 3061: 7, 3062: 16, 3063: 10, 3064: 11, 3065: 13, 3066: 7, 3067: 9, 3068: 13, 3069: 9, 3070: 11, 3071: 12, 3072: 4, 3073: 11, 3074: 9, 3075: 15, 3076: 9, 3077: 9, 3078: 8, 3079: 10, 3080: 9, 3081: 12, 3082: 16, 3083: 9, 3084: 11, 3085: 9, 3086: 17, 3087: 10, 3088: 13, 3089: 10, 3090: 8, 3091: 11, 3092: 6, 3093: 17, 3094: 12, 3095: 13, 3096: 11, 3097: 15, 3098: 10, 3099: 4, 3100: 12, 3101: 8, 3102: 6, 3103: 10, 3104: 6, 3105: 4, 3106: 14, 3107: 9, 3108: 9, 3109: 6, 3110: 12, 3111: 11, 3112: 16, 3113: 9, 3114: 8, 3115: 10, 3116: 13, 3117: 8, 3118: 9, 3119: 12, 3120: 11, 3121: 6, 3122: 6, 3123: 11, 3124: 9, 3125: 10, 3126: 8, 3127: 12, 3128: 11, 3129: 8, 3130: 11, 3131: 9, 3132: 11, 3133: 9, 3134: 8, 3135: 8, 3136: 8, 3137: 3, 3138: 8, 3139: 12, 3140: 12, 3141: 12, 3142: 9, 3143: 6, 3144: 16, 3145: 12, 3146: 6, 3147: 8, 3148: 11, 3149: 11, 3150: 9, 3151: 18, 3152: 11, 3153: 9, 3154: 15, 3155: 8, 3156: 13, 3157: 11, 3158: 8, 3159: 10, 3160: 8, 3161: 6, 3162: 5, 3163: 13, 3164: 16, 3165: 8, 3166: 8, 3167: 12, 3168: 12, 3169: 10, 3170: 12, 3171: 18, 3172: 8, 3173: 6, 3174: 10, 3175: 11, 3176: 13, 3177: 12, 3178: 6, 3179: 11, 3180: 12, 3181: 12, 3182: 10, 3183: 13, 3184: 10, 3185: 9, 3186: 10, 3187: 11, 3188: 9, 3189: 9, 3190: 7, 3191: 8, 3192: 7, 3193: 9, 3194: 10, 3195: 9, 3196: 15, 3197: 9, 3198: 5, 3199: 10, 3200: 11, 3201: 13, 3202: 13, 3203: 8, 3204: 13, 3205: 6, 3206: 11, 3207: 9, 3208: 6, 3209: 8, 3210: 7, 3211: 7, 3212: 9, 3213: 14, 3214: 6, 3215: 10, 3216: 8, 3217: 7, 3218: 8, 3219: 12, 3220: 18, 3221: 11, 3222: 15, 3223: 13, 3224: 8, 3225: 7, 3226: 9, 3227: 8, 3228: 10, 3229: 3, 3230: 12, 3231: 9, 3232: 9, 3233: 14, 3234: 15, 3235: 16, 3236: 13, 3237: 12, 3238: 11, 3239: 6, 3240: 5, 3241: 9, 3242: 15, 3243: 5, 3244: 8, 3245: 10, 3246: 5, 3247: 10, 3248: 7, 3249: 13, 3250: 9, 3251: 9, 3252: 10, 3253: 11, 3254: 11, 3255: 8, 3256: 15, 3257: 19, 3258: 14, 3259: 12, 3260: 6, 3261: 11, 3262: 12, 3263: 10, 3264: 15, 3265: 15, 3266: 12, 3267: 13, 3268: 8, 3269: 8, 3270: 12, 3271: 11, 3272: 14, 3273: 5, 3274: 9, 3275: 13, 3276: 9, 3277: 9, 3278: 11, 3279: 10, 3280: 6, 3281: 10, 3282: 13, 3283: 11, 3284: 14, 3285: 13, 3286: 8, 3287: 17, 3288: 16, 3289: 12, 3290: 13, 3291: 11, 3292: 7, 3293: 4, 3294: 13, 3295: 14, 3296: 9, 3297: 13, 3298: 6, 3299: 15, 3300: 11, 3301: 13, 3302: 8, 3303: 8, 3304: 8, 3305: 8, 3306: 11, 3307: 10, 3308: 6, 3309: 15, 3310: 16, 3311: 9, 3312: 14, 3313: 7, 3314: 9, 3315: 11, 3316: 14, 3317: 11, 3318: 7, 3319: 9, 3320: 14, 3321: 8, 3322: 17, 3323: 17, 3324: 10, 3325: 4, 3326: 14, 3327: 9, 3328: 6, 3329: 5, 3330: 9, 3331: 16, 3332: 11, 3333: 9, 3334: 7, 3335: 12, 3336: 10, 3337: 12, 3338: 9, 3339: 8, 3340: 10, 3341: 17, 3342: 8, 3343: 14, 3344: 5, 3345: 15, 3346: 13, 3347: 12, 3348: 8, 3349: 19, 3350: 10, 3351: 12, 3352: 9, 3353: 7, 3354: 12, 3355: 15, 3356: 13, 3357: 12, 3358: 9, 3359: 14, 3360: 7, 3361: 5, 3362: 10, 3363: 13, 3364: 8, 3365: 5, 3366: 6, 3367: 7, 3368: 13, 3369: 12, 3370: 15, 3371: 11, 3372: 8, 3373: 4, 3374: 19, 3375: 11, 3376: 12, 3377: 11, 3378: 8, 3379: 9, 3380: 9, 3381: 11, 3382: 8, 3383: 12, 3384: 7, 3385: 8, 3386: 11, 3387: 7, 3388: 11, 3389: 6, 3390: 15, 3391: 10, 3392: 14, 3393: 10, 3394: 13, 3395: 14, 3396: 10, 3397: 4, 3398: 7, 3399: 12, 3400: 5, 3401: 16, 3402: 8, 3403: 6, 3404: 11, 3405: 8, 3406: 5, 3407: 2, 3408: 8, 3409: 11, 3410: 9, 3411: 8, 3412: 12, 3413: 10, 3414: 11, 3415: 8, 3416: 11, 3417: 12, 3418: 8, 3419: 10, 3420: 11, 3421: 3, 3422: 12, 3423: 10, 3424: 12, 3425: 6, 3426: 6, 3427: 8, 3428: 6, 3429: 10, 3430: 10, 3431: 9, 3432: 10, 3433: 13, 3434: 8, 3435: 5, 3436: 7, 3437: 13, 3438: 9, 3439: 6, 3440: 8, 3441: 7, 3442: 5, 3443: 9, 3444: 5, 3445: 11, 3446: 9, 3447: 7, 3448: 10, 3449: 15, 3450: 11, 3451: 7, 3452: 11, 3453: 8, 3454: 11, 3455: 7, 3456: 10, 3457: 11, 3458: 11, 3459: 9, 3460: 9, 3461: 8, 3462: 8, 3463: 12, 3464: 5, 3465: 9, 3466: 6, 3467: 11, 3468: 12, 3469: 10, 3470: 11, 3471: 11, 3472: 9, 3473: 12, 3474: 10, 3475: 10, 3476: 12, 3477: 7, 3478: 10, 3479: 6, 3480: 17, 3481: 10, 3482: 9, 3483: 7, 3484: 8, 3485: 19, 3486: 18, 3487: 10, 3488: 11, 3489: 12, 3490: 11, 3491: 10, 3492: 5, 3493: 8, 3494: 8, 3495: 8, 3496: 8, 3497: 12, 3498: 8, 3499: 9, 3500: 10, 3501: 12, 3502: 11, 3503: 10, 3504: 10, 3505: 10, 3506: 8, 3507: 9, 3508: 10, 3509: 8, 3510: 9, 3511: 11, 3512: 12, 3513: 7, 3514: 12, 3515: 13, 3516: 13, 3517: 15, 3518: 6, 3519: 8, 3520: 9, 3521: 11, 3522: 12, 3523: 10, 3524: 14, 3525: 10, 3526: 12, 3527: 8, 3528: 14, 3529: 10, 3530: 11, 3531: 12, 3532: 11, 3533: 22, 3534: 12, 3535: 7, 3536: 9, 3537: 13, 3538: 12, 3539: 4, 3540: 15, 3541: 16, 3542: 13, 3543: 7, 3544: 7, 3545: 9, 3546: 14, 3547: 12, 3548: 10, 3549: 13, 3550: 8, 3551: 15, 3552: 8, 3553: 9, 3554: 12, 3555: 8, 3556: 11, 3557: 9, 3558: 12, 3559: 11, 3560: 5, 3561: 11, 3562: 10, 3563: 14, 3564: 20, 3565: 6, 3566: 10, 3567: 15, 3568: 9, 3569: 10, 3570: 12, 3571: 14, 3572: 3, 3573: 10, 3574: 10, 3575: 9, 3576: 9, 3577: 12, 3578: 11, 3579: 15, 3580: 13, 3581: 11, 3582: 7, 3583: 8, 3584: 7, 3585: 9, 3586: 5, 3587: 11, 3588: 12, 3589: 15, 3590: 11, 3591: 13, 3592: 13, 3593: 9, 3594: 9, 3595: 13, 3596: 11, 3597: 14, 3598: 10, 3599: 10, 3600: 8, 3601: 13, 3602: 12, 3603: 8, 3604: 9, 3605: 7, 3606: 11, 3607: 10, 3608: 9, 3609: 13, 3610: 12, 3611: 11, 3612: 7, 3613: 6, 3614: 6, 3615: 8, 3616: 13, 3617: 10, 3618: 9, 3619: 6, 3620: 11, 3621: 14, 3622: 12, 3623: 10, 3624: 11, 3625: 16, 3626: 14, 3627: 17, 3628: 12, 3629: 9, 3630: 12, 3631: 10, 3632: 8, 3633: 6, 3634: 17, 3635: 11, 3636: 8, 3637: 7, 3638: 11, 3639: 5, 3640: 9, 3641: 11, 3642: 9, 3643: 9, 3644: 5, 3645: 7, 3646: 9, 3647: 9, 3648: 14, 3649: 10, 3650: 9, 3651: 10, 3652: 10, 3653: 9, 3654: 14, 3655: 12, 3656: 10, 3657: 3, 3658: 9, 3659: 7, 3660: 12, 3661: 17, 3662: 8, 3663: 8, 3664: 14, 3665: 12, 3666: 16, 3667: 8, 3668: 12, 3669: 16, 3670: 9, 3671: 6, 3672: 5, 3673: 11, 3674: 9, 3675: 6, 3676: 8, 3677: 7, 3678: 15, 3679: 11, 3680: 12, 3681: 9, 3682: 9, 3683: 13, 3684: 13, 3685: 9, 3686: 12, 3687: 10, 3688: 7, 3689: 9, 3690: 9, 3691: 11, 3692: 11, 3693: 16, 3694: 12, 3695: 9, 3696: 12, 3697: 9, 3698: 7, 3699: 12, 3700: 5, 3701: 11, 3702: 11, 3703: 8, 3704: 12, 3705: 11, 3706: 10, 3707: 7, 3708: 13, 3709: 11, 3710: 9, 3711: 12, 3712: 14, 3713: 8, 3714: 9, 3715: 7, 3716: 9, 3717: 8, 3718: 12, 3719: 12, 3720: 11, 3721: 9, 3722: 13, 3723: 6, 3724: 11, 3725: 8, 3726: 12, 3727: 15, 3728: 9, 3729: 8, 3730: 13, 3731: 14, 3732: 13, 3733: 11, 3734: 10, 3735: 16, 3736: 9, 3737: 11, 3738: 9, 3739: 8, 3740: 7, 3741: 12, 3742: 12, 3743: 9, 3744: 10, 3745: 14, 3746: 7, 3747: 7, 3748: 7, 3749: 12, 3750: 8, 3751: 10, 3752: 10, 3753: 16, 3754: 16, 3755: 14, 3756: 11, 3757: 8, 3758: 13, 3759: 9, 3760: 8, 3761: 9, 3762: 11, 3763: 10, 3764: 8, 3765: 9, 3766: 11, 3767: 14, 3768: 15, 3769: 10, 3770: 13, 3771: 10, 3772: 9, 3773: 8, 3774: 15, 3775: 10, 3776: 6, 3777: 6, 3778: 6, 3779: 13, 3780: 16, 3781: 7, 3782: 8, 3783: 7, 3784: 13, 3785: 18, 3786: 12, 3787: 8, 3788: 8, 3789: 7, 3790: 12, 3791: 6, 3792: 11, 3793: 12, 3794: 10, 3795: 5, 3796: 12, 3797: 11, 3798: 7, 3799: 10, 3800: 12, 3801: 13, 3802: 7, 3803: 8, 3804: 10, 3805: 6, 3806: 12, 3807: 11, 3808: 13, 3809: 9, 3810: 13, 3811: 11, 3812: 9, 3813: 12, 3814: 9, 3815: 6, 3816: 13, 3817: 11, 3818: 11, 3819: 8, 3820: 9, 3821: 8, 3822: 8, 3823: 5, 3824: 10, 3825: 4, 3826: 7, 3827: 13, 3828: 11, 3829: 9, 3830: 14, 3831: 7, 3832: 7, 3833: 12, 3834: 7, 3835: 12, 3836: 7, 3837: 11, 3838: 9, 3839: 13, 3840: 8, 3841: 10, 3842: 15, 3843: 8, 3844: 7, 3845: 14, 3846: 4, 3847: 9, 3848: 7, 3849: 8, 3850: 6, 3851: 5, 3852: 4, 3853: 10, 3854: 14, 3855: 11, 3856: 6, 3857: 13, 3858: 18, 3859: 11, 3860: 11, 3861: 14, 3862: 18, 3863: 7, 3864: 9, 3865: 3, 3866: 4, 3867: 13, 3868: 7, 3869: 9, 3870: 8, 3871: 8, 3872: 10, 3873: 12, 3874: 13, 3875: 10, 3876: 12, 3877: 12, 3878: 6, 3879: 8, 3880: 10, 3881: 6, 3882: 9, 3883: 11, 3884: 6, 3885: 9, 3886: 11, 3887: 10, 3888: 9, 3889: 3, 3890: 9, 3891: 7, 3892: 11, 3893: 11, 3894: 12, 3895: 11, 3896: 6, 3897: 9, 3898: 6, 3899: 14, 3900: 7, 3901: 16, 3902: 14, 3903: 8, 3904: 14, 3905: 7, 3906: 11, 3907: 14, 3908: 12, 3909: 7, 3910: 14, 3911: 13, 3912: 14, 3913: 8, 3914: 13, 3915: 6, 3916: 11, 3917: 12, 3918: 9, 3919: 5, 3920: 9, 3921: 8, 3922: 5, 3923: 6, 3924: 12, 3925: 10, 3926: 6, 3927: 12, 3928: 10, 3929: 9, 3930: 9, 3931: 12, 3932: 9, 3933: 6, 3934: 12, 3935: 7, 3936: 9, 3937: 10, 3938: 11, 3939: 9, 3940: 7, 3941: 12, 3942: 6, 3943: 11, 3944: 8, 3945: 14, 3946: 7, 3947: 9, 3948: 12, 3949: 11, 3950: 12, 3951: 9, 3952: 8, 3953: 9, 3954: 11, 3955: 10, 3956: 9, 3957: 17, 3958: 10, 3959: 13, 3960: 11, 3961: 13, 3962: 12, 3963: 21, 3964: 9, 3965: 9, 3966: 10, 3967: 9, 3968: 11, 3969: 9, 3970: 7, 3971: 6, 3972: 6, 3973: 14, 3974: 8, 3975: 13, 3976: 10, 3977: 7, 3978: 11, 3979: 11, 3980: 6, 3981: 20, 3982: 6, 3983: 9, 3984: 7, 3985: 10, 3986: 9, 3987: 16, 3988: 15, 3989: 7, 3990: 15, 3991: 12, 3992: 9, 3993: 9, 3994: 6, 3995: 11, 3996: 8, 3997: 7, 3998: 10, 3999: 7, 4000: 8, 4001: 9, 4002: 6, 4003: 14, 4004: 8, 4005: 9, 4006: 6, 4007: 14, 4008: 8, 4009: 5, 4010: 9, 4011: 15, 4012: 11, 4013: 11, 4014: 11, 4015: 5, 4016: 7, 4017: 13, 4018: 7, 4019: 7, 4020: 11, 4021: 10, 4022: 13, 4023: 7, 4024: 9, 4025: 8, 4026: 16, 4027: 2, 4028: 7, 4029: 14, 4030: 14, 4031: 13, 4032: 12, 4033: 8, 4034: 12, 4035: 10, 4036: 16, 4037: 10, 4038: 12, 4039: 4, 4040: 9, 4041: 12, 4042: 7, 4043: 11, 4044: 5, 4045: 7, 4046: 12, 4047: 15, 4048: 8, 4049: 8, 4050: 11, 4051: 11, 4052: 11, 4053: 10, 4054: 4, 4055: 14, 4056: 7, 4057: 11, 4058: 10, 4059: 2, 4060: 7, 4061: 9, 4062: 8, 4063: 15, 4064: 11, 4065: 10, 4066: 9, 4067: 8, 4068: 7, 4069: 9, 4070: 10, 4071: 11, 4072: 6, 4073: 9, 4074: 8, 4075: 10, 4076: 9, 4077: 7, 4078: 12, 4079: 8, 4080: 8, 4081: 11, 4082: 9, 4083: 9, 4084: 7, 4085: 13, 4086: 13, 4087: 8, 4088: 16, 4089: 9, 4090: 8, 4091: 9, 4092: 11, 4093: 11, 4094: 13, 4095: 11, 4096: 7, 4097: 9, 4098: 14, 4099: 10, 4100: 6, 4101: 5, 4102: 12, 4103: 8, 4104: 15, 4105: 10, 4106: 8, 4107: 9, 4108: 14, 4109: 14, 4110: 7, 4111: 10, 4112: 8, 4113: 6, 4114: 10, 4115: 7, 4116: 14, 4117: 16, 4118: 11, 4119: 6, 4120: 10, 4121: 8, 4122: 6, 4123: 7, 4124: 8, 4125: 8, 4126: 13, 4127: 6, 4128: 16, 4129: 8, 4130: 11, 4131: 7, 4132: 7, 4133: 15, 4134: 11, 4135: 6, 4136: 11, 4137: 6, 4138: 9, 4139: 13, 4140: 6, 4141: 6, 4142: 10, 4143: 8, 4144: 3, 4145: 15, 4146: 17, 4147: 11, 4148: 16, 4149: 9, 4150: 11, 4151: 8, 4152: 4, 4153: 7, 4154: 5, 4155: 8, 4156: 4, 4157: 14, 4158: 7, 4159: 7, 4160: 9, 4161: 5, 4162: 11, 4163: 11, 4164: 19, 4165: 8, 4166: 6, 4167: 15, 4168: 15, 4169: 9, 4170: 9, 4171: 12, 4172: 11, 4173: 13, 4174: 12, 4175: 11, 4176: 10, 4177: 12, 4178: 15, 4179: 9, 4180: 9, 4181: 9, 4182: 11, 4183: 11, 4184: 6, 4185: 9, 4186: 5, 4187: 10, 4188: 14, 4189: 5, 4190: 12, 4191: 13, 4192: 3, 4193: 13, 4194: 23, 4195: 9, 4196: 6, 4197: 10, 4198: 12, 4199: 11, 4200: 8, 4201: 12, 4202: 5, 4203: 11, 4204: 8, 4205: 14, 4206: 6, 4207: 13, 4208: 11, 4209: 15, 4210: 11, 4211: 9, 4212: 9, 4213: 8, 4214: 12, 4215: 10, 4216: 8, 4217: 10, 4218: 12, 4219: 11, 4220: 11, 4221: 10, 4222: 6, 4223: 13, 4224: 8, 4225: 14, 4226: 16, 4227: 15, 4228: 11, 4229: 11, 4230: 6, 4231: 6, 4232: 9, 4233: 16, 4234: 9, 4235: 14, 4236: 7, 4237: 16, 4238: 6, 4239: 12, 4240: 12, 4241: 15, 4242: 6, 4243: 9, 4244: 12, 4245: 9, 4246: 14, 4247: 8, 4248: 11, 4249: 6, 4250: 8, 4251: 7, 4252: 7, 4253: 7, 4254: 6, 4255: 10, 4256: 9, 4257: 6, 4258: 6, 4259: 10, 4260: 10, 4261: 10, 4262: 17, 4263: 3, 4264: 14, 4265: 6, 4266: 12, 4267: 12, 4268: 9, 4269: 9, 4270: 11, 4271: 9, 4272: 7, 4273: 8, 4274: 11, 4275: 7, 4276: 16, 4277: 10, 4278: 10, 4279: 11, 4280: 6, 4281: 12, 4282: 7, 4283: 7, 4284: 11, 4285: 9, 4286: 7, 4287: 15, 4288: 14, 4289: 15, 4290: 11, 4291: 13, 4292: 10, 4293: 12, 4294: 6, 4295: 16, 4296: 12, 4297: 9, 4298: 9, 4299: 10, 4300: 10, 4301: 16, 4302: 10, 4303: 9, 4304: 7, 4305: 13, 4306: 9, 4307: 13, 4308: 13, 4309: 13, 4310: 6, 4311: 8, 4312: 12, 4313: 8, 4314: 11, 4315: 7, 4316: 10, 4317: 9, 4318: 8, 4319: 8, 4320: 9, 4321: 12, 4322: 15, 4323: 6, 4324: 9, 4325: 9, 4326: 10, 4327: 9, 4328: 12, 4329: 9, 4330: 9, 4331: 11, 4332: 7, 4333: 10, 4334: 11, 4335: 15, 4336: 6, 4337: 11, 4338: 11, 4339: 9, 4340: 16, 4341: 8, 4342: 17, 4343: 9, 4344: 12, 4345: 11, 4346: 12, 4347: 11, 4348: 5, 4349: 13, 4350: 8, 4351: 4, 4352: 8, 4353: 6, 4354: 7, 4355: 12, 4356: 12, 4357: 7, 4358: 9, 4359: 10, 4360: 13, 4361: 16, 4362: 11, 4363: 13, 4364: 14, 4365: 7, 4366: 10, 4367: 17, 4368: 14, 4369: 13, 4370: 9, 4371: 5, 4372: 12, 4373: 15, 4374: 7, 4375: 9, 4376: 8, 4377: 10, 4378: 13, 4379: 19, 4380: 13, 4381: 9, 4382: 10, 4383: 7, 4384: 12, 4385: 8, 4386: 9, 4387: 13, 4388: 13, 4389: 11, 4390: 13, 4391: 8, 4392: 3, 4393: 10, 4394: 7, 4395: 10, 4396: 14, 4397: 7, 4398: 6, 4399: 11, 4400: 16, 4401: 14, 4402: 13, 4403: 10, 4404: 11, 4405: 9, 4406: 11, 4407: 15, 4408: 9, 4409: 7, 4410: 11, 4411: 7, 4412: 12, 4413: 5, 4414: 7, 4415: 8, 4416: 10, 4417: 10, 4418: 11, 4419: 15, 4420: 8, 4421: 3, 4422: 9, 4423: 12, 4424: 4, 4425: 15, 4426: 5, 4427: 9, 4428: 15, 4429: 13, 4430: 10, 4431: 13, 4432: 7, 4433: 12, 4434: 11, 4435: 8, 4436: 10, 4437: 6, 4438: 9, 4439: 7, 4440: 7, 4441: 10, 4442: 16, 4443: 12, 4444: 9, 4445: 11, 4446: 9, 4447: 4, 4448: 14, 4449: 8, 4450: 9, 4451: 14, 4452: 7, 4453: 11, 4454: 8, 4455: 10, 4456: 11, 4457: 10, 4458: 13, 4459: 15, 4460: 22, 4461: 4, 4462: 9, 4463: 8, 4464: 10, 4465: 9, 4466: 9, 4467: 10, 4468: 15, 4469: 12, 4470: 13, 4471: 13, 4472: 5, 4473: 9, 4474: 10, 4475: 11, 4476: 6, 4477: 11, 4478: 13, 4479: 7, 4480: 12, 4481: 10, 4482: 9, 4483: 9, 4484: 5, 4485: 5, 4486: 12, 4487: 13, 4488: 12, 4489: 6, 4490: 4, 4491: 15, 4492: 15, 4493: 7, 4494: 8, 4495: 8, 4496: 10, 4497: 6, 4498: 10, 4499: 9, 4500: 8, 4501: 4, 4502: 10, 4503: 9, 4504: 16, 4505: 13, 4506: 9, 4507: 16, 4508: 8, 4509: 14, 4510: 8, 4511: 8, 4512: 6, 4513: 13, 4514: 12, 4515: 10, 4516: 15, 4517: 11, 4518: 9, 4519: 9, 4520: 11, 4521: 12, 4522: 12, 4523: 12, 4524: 9, 4525: 9, 4526: 9, 4527: 5, 4528: 7, 4529: 13, 4530: 7, 4531: 16, 4532: 10, 4533: 3, 4534: 8, 4535: 7, 4536: 9, 4537: 16, 4538: 7, 4539: 18, 4540: 13, 4541: 10, 4542: 11, 4543: 5, 4544: 17, 4545: 8, 4546: 13, 4547: 13, 4548: 8, 4549: 13, 4550: 12, 4551: 9, 4552: 5, 4553: 15, 4554: 10, 4555: 10, 4556: 7, 4557: 16, 4558: 13, 4559: 12, 4560: 18, 4561: 8, 4562: 6, 4563: 10, 4564: 9, 4565: 15, 4566: 9, 4567: 7, 4568: 10, 4569: 16, 4570: 8, 4571: 13, 4572: 10, 4573: 8, 4574: 12, 4575: 4, 4576: 10, 4577: 11, 4578: 6, 4579: 10, 4580: 13, 4581: 14, 4582: 15, 4583: 10, 4584: 14, 4585: 11, 4586: 16, 4587: 4, 4588: 12, 4589: 8, 4590: 11, 4591: 11, 4592: 10, 4593: 7, 4594: 10, 4595: 9, 4596: 14, 4597: 5, 4598: 5, 4599: 11, 4600: 8, 4601: 10, 4602: 15, 4603: 14, 4604: 12, 4605: 10, 4606: 10, 4607: 9, 4608: 12, 4609: 9, 4610: 12, 4611: 11, 4612: 11, 4613: 14, 4614: 8, 4615: 6, 4616: 13, 4617: 10, 4618: 13, 4619: 10, 4620: 7, 4621: 9, 4622: 9, 4623: 10, 4624: 4, 4625: 16, 4626: 4, 4627: 7, 4628: 18, 4629: 6, 4630: 15, 4631: 14, 4632: 11, 4633: 9, 4634: 11, 4635: 8, 4636: 5, 4637: 9, 4638: 14, 4639: 9, 4640: 10, 4641: 9, 4642: 10, 4643: 12, 4644: 3, 4645: 10, 4646: 9, 4647: 16, 4648: 15, 4649: 15, 4650: 7, 4651: 7, 4652: 8, 4653: 15, 4654: 10, 4655: 4, 4656: 9, 4657: 10, 4658: 9, 4659: 7, 4660: 14, 4661: 11, 4662: 8, 4663: 7, 4664: 10, 4665: 9, 4666: 6, 4667: 6, 4668: 13, 4669: 9, 4670: 10, 4671: 13, 4672: 9, 4673: 11, 4674: 8, 4675: 13, 4676: 5, 4677: 9, 4678: 7, 4679: 8, 4680: 8, 4681: 7, 4682: 10, 4683: 10, 4684: 9, 4685: 4, 4686: 9, 4687: 9, 4688: 8, 4689: 5, 4690: 12, 4691: 13, 4692: 6, 4693: 5, 4694: 11, 4695: 6, 4696: 9, 4697: 8, 4698: 10, 4699: 6, 4700: 11, 4701: 8, 4702: 11, 4703: 11, 4704: 9, 4705: 7, 4706: 12, 4707: 10, 4708: 10, 4709: 12, 4710: 7, 4711: 14, 4712: 7, 4713: 10, 4714: 10, 4715: 12, 4716: 15, 4717: 16, 4718: 12, 4719: 11, 4720: 11, 4721: 12, 4722: 13, 4723: 13, 4724: 10, 4725: 6, 4726: 16, 4727: 10, 4728: 10, 4729: 13, 4730: 11, 4731: 14, 4732: 8, 4733: 13, 4734: 8, 4735: 9, 4736: 10, 4737: 7, 4738: 6, 4739: 5, 4740: 17, 4741: 8, 4742: 8, 4743: 8, 4744: 6, 4745: 9, 4746: 7, 4747: 11, 4748: 14, 4749: 10, 4750: 9, 4751: 12, 4752: 5, 4753: 12, 4754: 9, 4755: 9, 4756: 14, 4757: 7, 4758: 9, 4759: 5, 4760: 11, 4761: 11, 4762: 14, 4763: 12, 4764: 13, 4765: 9, 4766: 12, 4767: 4, 4768: 12, 4769: 10, 4770: 11, 4771: 11, 4772: 4, 4773: 7, 4774: 9, 4775: 10, 4776: 9, 4777: 16, 4778: 8, 4779: 10, 4780: 8, 4781: 7, 4782: 5, 4783: 14, 4784: 9, 4785: 12, 4786: 14, 4787: 11, 4788: 14, 4789: 8, 4790: 4, 4791: 14, 4792: 10, 4793: 10, 4794: 11, 4795: 4, 4796: 12, 4797: 9, 4798: 7, 4799: 14, 4800: 11, 4801: 9, 4802: 5, 4803: 9, 4804: 7, 4805: 13, 4806: 13, 4807: 9, 4808: 9, 4809: 8, 4810: 9, 4811: 9, 4812: 15, 4813: 6, 4814: 10, 4815: 7, 4816: 6, 4817: 7, 4818: 11, 4819: 13, 4820: 14, 4821: 11, 4822: 10, 4823: 6, 4824: 10, 4825: 10, 4826: 7, 4827: 10, 4828: 9, 4829: 8, 4830: 9, 4831: 10, 4832: 12, 4833: 12, 4834: 8, 4835: 10, 4836: 5, 4837: 15, 4838: 15, 4839: 10, 4840: 7, 4841: 15, 4842: 8, 4843: 7, 4844: 8, 4845: 14, 4846: 15, 4847: 11, 4848: 15, 4849: 12, 4850: 8, 4851: 3, 4852: 9, 4853: 11, 4854: 8, 4855: 6, 4856: 9, 4857: 9, 4858: 14, 4859: 13, 4860: 8, 4861: 6, 4862: 5, 4863: 11, 4864: 7, 4865: 7, 4866: 11, 4867: 12, 4868: 6, 4869: 14, 4870: 13, 4871: 4, 4872: 10, 4873: 11, 4874: 9, 4875: 10, 4876: 14, 4877: 8, 4878: 9, 4879: 11, 4880: 6, 4881: 9, 4882: 16, 4883: 11, 4884: 10, 4885: 14, 4886: 12, 4887: 9, 4888: 9, 4889: 14, 4890: 15, 4891: 16, 4892: 14, 4893: 8, 4894: 15, 4895: 4, 4896: 13, 4897: 8, 4898: 11, 4899: 10, 4900: 11, 4901: 12, 4902: 11, 4903: 9, 4904: 8, 4905: 14, 4906: 12, 4907: 12, 4908: 8, 4909: 9, 4910: 11, 4911: 5, 4912: 9, 4913: 9, 4914: 6, 4915: 7, 4916: 18, 4917: 12, 4918: 7, 4919: 6, 4920: 9, 4921: 10, 4922: 7, 4923: 4, 4924: 13, 4925: 10, 4926: 13, 4927: 12, 4928: 8, 4929: 6, 4930: 15, 4931: 9, 4932: 13, 4933: 12, 4934: 7, 4935: 12, 4936: 8, 4937: 6, 4938: 8, 4939: 13, 4940: 16, 4941: 8, 4942: 9, 4943: 7, 4944: 11, 4945: 17, 4946: 13, 4947: 11, 4948: 10, 4949: 9, 4950: 7, 4951: 16, 4952: 8, 4953: 14, 4954: 8, 4955: 11, 4956: 11, 4957: 9, 4958: 4, 4959: 11, 4960: 11, 4961: 15, 4962: 11, 4963: 10, 4964: 14, 4965: 10, 4966: 14, 4967: 12, 4968: 8, 4969: 13, 4970: 8, 4971: 6, 4972: 6, 4973: 7, 4974: 11, 4975: 8, 4976: 13, 4977: 9, 4978: 12, 4979: 7, 4980: 10, 4981: 12, 4982: 7, 4983: 8, 4984: 5, 4985: 9, 4986: 14, 4987: 5, 4988: 7, 4989: 12, 4990: 7, 4991: 11, 4992: 11, 4993: 16, 4994: 11, 4995: 11, 4996: 12, 4997: 9, 4998: 9, 4999: 11})"
      ]
     },
     "execution_count": 278,
     "metadata": {},
     "output_type": "execute_result"
    }
   ],
   "source": [
    "pdv"
   ]
  },
  {
   "cell_type": "code",
   "execution_count": 279,
   "id": "c642f54a",
   "metadata": {},
   "outputs": [
    {
     "data": {
      "text/plain": [
       "(2, 23)"
      ]
     },
     "execution_count": 279,
     "metadata": {},
     "output_type": "execute_result"
    }
   ],
   "source": [
    "dict_pdv=dict(pdv)\n",
    "min(dict_pdv.values()),max(dict_pdv.values())"
   ]
  },
  {
   "cell_type": "code",
   "execution_count": 250,
   "id": "e20728f0",
   "metadata": {},
   "outputs": [],
   "source": [
    "k=np.arange(2,24)"
   ]
  },
  {
   "cell_type": "code",
   "execution_count": 252,
   "id": "b3218c61",
   "metadata": {},
   "outputs": [],
   "source": [
    "import math\n",
    "pk=[(10**i)*(math.exp(-10))/math.factorial(i) for i in k]"
   ]
  },
  {
   "cell_type": "code",
   "execution_count": 253,
   "id": "7eeccc45",
   "metadata": {},
   "outputs": [
    {
     "data": {
      "text/plain": [
       "[0.0022699964881242427,\n",
       " 0.007566654960414142,\n",
       " 0.018916637401035354,\n",
       " 0.03783327480207071,\n",
       " 0.06305545800345118,\n",
       " 0.09007922571921599,\n",
       " 0.11259903214901998,\n",
       " 0.1251100357211333,\n",
       " 0.1251100357211333,\n",
       " 0.11373639611012118,\n",
       " 0.09478033009176766,\n",
       " 0.07290794622443666,\n",
       " 0.05207710444602619,\n",
       " 0.03471806963068413,\n",
       " 0.021698793519177577,\n",
       " 0.012763996187751515,\n",
       " 0.007091108993195286,\n",
       " -0.003152462256015831,\n",
       " 0.00014492509299542203,\n",
       " 3.4440930072166735e-06,\n",
       " 7.531827513888825e-08,\n",
       " 3.5189035770714903e-10]"
      ]
     },
     "execution_count": 253,
     "metadata": {},
     "output_type": "execute_result"
    }
   ],
   "source": [
    "pk"
   ]
  },
  {
   "cell_type": "code",
   "execution_count": 287,
   "id": "0269d34a",
   "metadata": {},
   "outputs": [],
   "source": [
    "degree=nx.degree_histogram(ERP) #returns a list of frequencies of the degrees in the network, where the degree values are the corresponding indices in the list\n",
    "x=range(len(degree))\n",
    "y=[z/float(sum(degree)) for z in degree]"
   ]
  },
  {
   "cell_type": "code",
   "execution_count": 286,
   "id": "1e94fb28",
   "metadata": {},
   "outputs": [
    {
     "data": {
      "text/plain": [
       "([0,\n",
       "  0,\n",
       "  9,\n",
       "  34,\n",
       "  101,\n",
       "  184,\n",
       "  293,\n",
       "  431,\n",
       "  543,\n",
       "  700,\n",
       "  596,\n",
       "  548,\n",
       "  469,\n",
       "  367,\n",
       "  270,\n",
       "  200,\n",
       "  136,\n",
       "  53,\n",
       "  36,\n",
       "  17,\n",
       "  6,\n",
       "  3,\n",
       "  3,\n",
       "  1],\n",
       " range(0, 24),\n",
       " [0.0,\n",
       "  0.0,\n",
       "  0.0018,\n",
       "  0.0068,\n",
       "  0.0202,\n",
       "  0.0368,\n",
       "  0.0586,\n",
       "  0.0862,\n",
       "  0.1086,\n",
       "  0.14,\n",
       "  0.1192,\n",
       "  0.1096,\n",
       "  0.0938,\n",
       "  0.0734,\n",
       "  0.054,\n",
       "  0.04,\n",
       "  0.0272,\n",
       "  0.0106,\n",
       "  0.0072,\n",
       "  0.0034,\n",
       "  0.0012,\n",
       "  0.0006,\n",
       "  0.0006,\n",
       "  0.0002])"
      ]
     },
     "execution_count": 286,
     "metadata": {},
     "output_type": "execute_result"
    }
   ],
   "source": [
    "degree,x,y"
   ]
  },
  {
   "cell_type": "code",
   "execution_count": 284,
   "id": "0132003e",
   "metadata": {},
   "outputs": [
    {
     "data": {
      "text/plain": [
       "(0.0, 0.15)"
      ]
     },
     "execution_count": 284,
     "metadata": {},
     "output_type": "execute_result"
    },
    {
     "data": {
      "image/png": "[encoded data removed]",
      "text/plain": [
       "<Figure size 432x288 with 1 Axes>"
      ]
     },
     "metadata": {
      "needs_background": "light"
     },
     "output_type": "display_data"
    }
   ],
   "source": [
    "plt.plot(k,pk,color='green',linewidth=0.6)\n",
    "plt.scatter(x,y,color='purple',alpha=0.4,s=25)\n",
    "plt.xlabel('k')\n",
    "plt.ylabel('p(k)')\n",
    "plt.xlim(0,25)\n",
    "plt.ylim(0,0.15)"
   ]
  },
  {
   "cell_type": "code",
   "execution_count": 289,
   "id": "35d4c4c1",
   "metadata": {},
   "outputs": [
    {
     "data": {
      "text/plain": [
       "(0.0, 0.15)"
      ]
     },
     "execution_count": 289,
     "metadata": {},
     "output_type": "execute_result"
    },
    {
     "data": {
      "image/png": "[encoded data removed]",
      "text/plain": [
       "<Figure size 432x288 with 1 Axes>"
      ]
     },
     "metadata": {
      "needs_background": "light"
     },
     "output_type": "display_data"
    }
   ],
   "source": [
    "plt.bar(x,y)\n",
    "plt.xlabel('k')\n",
    "plt.ylabel('p(k)')\n",
    "plt.xlim(0,25)\n",
    "plt.ylim(0,0.15)"
   ]
  },
  {
   "cell_type": "markdown",
   "id": "d729df31",
   "metadata": {},
   "source": [
    "# Part 4: Random networks"
   ]
  },
  {
   "cell_type": "markdown",
   "id": "63df4868",
   "metadata": {},
   "source": [
    "### Exercise3.1 Erdős-Rényi Networks\n",
    "\n",
    "Consider an Erdős-Rényi network with N = 3,000 nodes, connected to each other with probability p = 10–3.\n",
    "* What is the expected number of links, 〈L〉?\n",
    "\n",
    "    $⟨L⟩=\\frac{pN(N-1)}{2}=4498.5$\n",
    "\n",
    "* In which regime is the network?\n",
    "\n",
    "    $⟨k⟩=p(N−1)=2.999$\n",
    "\n",
    "    $1<⟨k⟩<ln3000$ \n",
    "\n",
    "    **Supercritical Regime**\n",
    "\n",
    "\n",
    "* Calculate the probability pc so that the network is at the critical point\n",
    "\n",
    "    \n",
    "    Critical Point: ‹k› = 1 \n",
    "\n",
    "    $P{_c}=\\frac{1}{2999}$\n",
    "\n",
    "* Given the linking probability p = 10–3, calculate the number of nodes Ncr so that the network has only one component.\n",
    "    \n",
    "    The network turns into one graph at ⟨k⟩=lnN\n",
    "   \n",
    "    $\\frac{\\ln{N{_{cr}}}}{N{_{cr}}}=10^{-3}$\n",
    "    \n",
    "    $N{_{cr}}=9118$\n",
    "\n",
    "\n",
    "* For the network in (d), calculate the average degree 〈kcr〉 and the average distance between two randomly chosen nodes 〈d〉.\n",
    "\n",
    "    $⟨k{_{cr}}⟩=p(N{_{cr}}−1)=9.117$\n"
   ]
  },
  {
   "cell_type": "code",
   "execution_count": 292,
   "id": "d63884e3",
   "metadata": {},
   "outputs": [
    {
     "data": {
      "text/plain": [
       "[(1.00100150267189,), (9118.00647040274,)]"
      ]
     },
     "execution_count": 292,
     "metadata": {},
     "output_type": "execute_result"
    }
   ],
   "source": [
    "from sympy import *\n",
    "n=Symbol('n')\n",
    "solve([log(n)/n-10**(-3)],[n])"
   ]
  },
  {
   "cell_type": "markdown",
   "id": "a50d2dec",
   "metadata": {},
   "source": [
    "* Calculate the degree distribution pk of this network (approximate with a Poisson degree distribution).\n",
    "\n",
    "    $P{_k}=e^{-⟨k⟩}\\frac{{⟨k⟩}^k}{k!}$"
   ]
  },
  {
   "cell_type": "code",
   "execution_count": 302,
   "id": "0ce222a0",
   "metadata": {},
   "outputs": [
    {
     "data": {
      "text/plain": [
       "[<matplotlib.lines.Line2D at 0x7fdb50c91970>]"
      ]
     },
     "execution_count": 302,
     "metadata": {},
     "output_type": "execute_result"
    },
    {
     "data": {
      "image/png": "[encoded data removed]",
      "text/plain": [
       "<Figure size 432x288 with 1 Axes>"
      ]
     },
     "metadata": {
      "needs_background": "light"
     },
     "output_type": "display_data"
    }
   ],
   "source": [
    "import math\n",
    "k=np.arange(7)\n",
    "pk=[(2.999**i)*(math.exp(-2.999))/math.factorial(i) for i in k]\n",
    "\n",
    "plt.plot(k,pk,color='green',linewidth=0.6)"
   ]
  },
  {
   "cell_type": "markdown",
   "id": "e23d8e35",
   "metadata": {},
   "source": [
    "* Extract the Giant Connected Component, GCC. (Hint: You can use networkx.connected_component_subgraphs <- it works in ealier versions of NetworkX (<2.5) || Otherwise, you can use nx.connected_components(G) and G.subgraph(c).copy())\n",
    "* Choose a node at random from the GCC. (Hint: You may want to try random.choice.)\n",
    "* Find all nodes that are precisely 2 steps away from that node. (Hint. I suggest networkx.single_source_shortest_path_length)\n",
    "* Plot the GCC with the following choice of colors. Starting node black (\"#000000\"). The nodes 2 steps away red (\"#ff0000\"). All other nodes blue (\"#A0CBE2\"). Again, I suggest using networkx.draw() and reading the documentation carefully find out how to color individual nodes."
   ]
  },
  {
   "cell_type": "code",
   "execution_count": 314,
   "id": "1d51c43e",
   "metadata": {},
   "outputs": [
    {
     "data": {
      "image/png": "[encoded data removed]",
      "text/plain": [
       "<Figure size 432x288 with 1 Axes>"
      ]
     },
     "metadata": {},
     "output_type": "display_data"
    }
   ],
   "source": [
    "RG=nx.random_graphs.erdos_renyi_graph(200,1.5/(200-1))\n",
    "nx.draw(RG,node_size=10)"
   ]
  },
  {
   "cell_type": "code",
   "execution_count": 329,
   "id": "7e4352e5",
   "metadata": {},
   "outputs": [
    {
     "data": {
      "text/plain": [
       "<generator object connected_components at 0x7fdb58ff63c0>"
      ]
     },
     "execution_count": 329,
     "metadata": {},
     "output_type": "execute_result"
    }
   ],
   "source": [
    "nx.connected_components(RG) #A list of nodes for each component of G."
   ]
  },
  {
   "cell_type": "code",
   "execution_count": 330,
   "id": "7bb02c1a",
   "metadata": {},
   "outputs": [],
   "source": [
    "# components_list=sorted(nx.connected_components(RG), key = len, reverse=True)\n",
    "gc=max(nx.connected_components(RG), key=len)"
   ]
  },
  {
   "cell_type": "code",
   "execution_count": 331,
   "id": "316d41ea",
   "metadata": {},
   "outputs": [
    {
     "data": {
      "text/plain": [
       "<networkx.classes.graph.Graph at 0x7fdb3027e850>"
      ]
     },
     "execution_count": 331,
     "metadata": {},
     "output_type": "execute_result"
    }
   ],
   "source": [
    "GCC=RG.subgraph(gc).copy()\n",
    "GCC"
   ]
  },
  {
   "cell_type": "code",
   "execution_count": 332,
   "id": "a76f306c",
   "metadata": {},
   "outputs": [
    {
     "data": {
      "image/png": "[encoded data removed]",
      "text/plain": [
       "<Figure size 432x288 with 1 Axes>"
      ]
     },
     "metadata": {},
     "output_type": "display_data"
    }
   ],
   "source": [
    "nx.draw(GCC,node_size=10)"
   ]
  },
  {
   "cell_type": "code",
   "execution_count": 370,
   "id": "abd89ad5",
   "metadata": {},
   "outputs": [
    {
     "data": {
      "text/plain": [
       "197"
      ]
     },
     "execution_count": 370,
     "metadata": {},
     "output_type": "execute_result"
    }
   ],
   "source": [
    "random_node=random.choice(list(gc))\n",
    "random_node"
   ]
  },
  {
   "cell_type": "code",
   "execution_count": 371,
   "id": "a48608ac",
   "metadata": {},
   "outputs": [
    {
     "data": {
      "text/plain": [
       "{197: 0, 139: 1, 48: 2, 51: 2}"
      ]
     },
     "execution_count": 371,
     "metadata": {},
     "output_type": "execute_result"
    }
   ],
   "source": [
    "nx.single_source_shortest_path_length(GCC,random_node,cutoff=2)"
   ]
  },
  {
   "cell_type": "code",
   "execution_count": 391,
   "id": "ef9263a0",
   "metadata": {},
   "outputs": [],
   "source": [
    "path_2=nx.single_source_shortest_path_length(GCC,random_node,cutoff=2)\n",
    "path_1=nx.single_source_shortest_path_length(GCC,random_node,cutoff=1)\n",
    "selected_nodes=set(path_2).difference(set(path_1))"
   ]
  },
  {
   "cell_type": "code",
   "execution_count": 397,
   "id": "4000d50a",
   "metadata": {},
   "outputs": [
    {
     "data": {
      "image/png": "[encoded data removed]",
      "text/plain": [
       "<Figure size 432x288 with 1 Axes>"
      ]
     },
     "metadata": {},
     "output_type": "display_data"
    }
   ],
   "source": [
    "color_map = []\n",
    "for node in GCC:\n",
    "    if node == random_node:\n",
    "        color_map.append('#000000')\n",
    "    elif node in selected_nodes: \n",
    "        color_map.append('#ff0000')\n",
    "    else:\n",
    "        color_map.append('#A0CBE2')\n",
    "# nx.draw(GCC, node_color=color_map, with_labels=True,font_size=10,node_size=20)\n",
    "nx.draw(GCC, node_color=color_map, node_size=30)"
   ]
  },
  {
   "cell_type": "code",
   "execution_count": null,
   "id": "33105c5b",
   "metadata": {},
   "outputs": [],
   "source": []
  }
 ],
 "metadata": {
  "kernelspec": {
   "display_name": "Python 3",
   "language": "python",
   "name": "python3"
  },
  "language_info": {
   "codemirror_mode": {
    "name": "ipython",
    "version": 3
   },
   "file_extension": ".py",
   "mimetype": "text/x-python",
   "name": "python",
   "nbconvert_exporter": "python",
   "pygments_lexer": "ipython3",
   "version": "3.8.8"
  }
 },
 "nbformat": 4,
 "nbformat_minor": 5
}
